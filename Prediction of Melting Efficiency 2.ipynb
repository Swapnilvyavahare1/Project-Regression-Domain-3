{
 "cells": [
  {
   "cell_type": "code",
   "execution_count": 1,
   "id": "6ce2b570",
   "metadata": {},
   "outputs": [],
   "source": [
    "import numpy as np\n",
    "import pandas as pd\n",
    "import matplotlib.pyplot as plt\n",
    "from sklearn import preprocessing\n",
    "import warnings\n",
    "warnings.filterwarnings('ignore')"
   ]
  },
  {
   "cell_type": "markdown",
   "id": "00d11c8c",
   "metadata": {},
   "source": [
    "Randomized search"
   ]
  },
  {
   "cell_type": "code",
   "execution_count": 2,
   "id": "a1d2ab19",
   "metadata": {},
   "outputs": [],
   "source": [
    "from sklearn.model_selection import RandomizedSearchCV\n",
    "from sklearn.model_selection import RepeatedKFold\n",
    "from sklearn.preprocessing import StandardScaler"
   ]
  },
  {
   "cell_type": "code",
   "execution_count": 3,
   "id": "bcc3d445",
   "metadata": {},
   "outputs": [
    {
     "data": {
      "text/html": [
       "<div>\n",
       "<style scoped>\n",
       "    .dataframe tbody tr th:only-of-type {\n",
       "        vertical-align: middle;\n",
       "    }\n",
       "\n",
       "    .dataframe tbody tr th {\n",
       "        vertical-align: top;\n",
       "    }\n",
       "\n",
       "    .dataframe thead th {\n",
       "        text-align: right;\n",
       "    }\n",
       "</style>\n",
       "<table border=\"1\" class=\"dataframe\">\n",
       "  <thead>\n",
       "    <tr style=\"text-align: right;\">\n",
       "      <th></th>\n",
       "      <th>WD</th>\n",
       "      <th>WFS</th>\n",
       "      <th>TS</th>\n",
       "      <th>P</th>\n",
       "      <th>ME</th>\n",
       "    </tr>\n",
       "  </thead>\n",
       "  <tbody>\n",
       "    <tr>\n",
       "      <th>0</th>\n",
       "      <td>0.8</td>\n",
       "      <td>39.33</td>\n",
       "      <td>5.00</td>\n",
       "      <td>531.22</td>\n",
       "      <td>0.396</td>\n",
       "    </tr>\n",
       "    <tr>\n",
       "      <th>1</th>\n",
       "      <td>0.8</td>\n",
       "      <td>48.33</td>\n",
       "      <td>6.66</td>\n",
       "      <td>693.84</td>\n",
       "      <td>0.414</td>\n",
       "    </tr>\n",
       "    <tr>\n",
       "      <th>2</th>\n",
       "      <td>0.8</td>\n",
       "      <td>66.83</td>\n",
       "      <td>8.34</td>\n",
       "      <td>959.70</td>\n",
       "      <td>0.433</td>\n",
       "    </tr>\n",
       "    <tr>\n",
       "      <th>3</th>\n",
       "      <td>0.8</td>\n",
       "      <td>80.00</td>\n",
       "      <td>10.00</td>\n",
       "      <td>1113.30</td>\n",
       "      <td>0.446</td>\n",
       "    </tr>\n",
       "    <tr>\n",
       "      <th>4</th>\n",
       "      <td>0.8</td>\n",
       "      <td>94.33</td>\n",
       "      <td>11.67</td>\n",
       "      <td>1277.70</td>\n",
       "      <td>0.445</td>\n",
       "    </tr>\n",
       "  </tbody>\n",
       "</table>\n",
       "</div>"
      ],
      "text/plain": [
       "    WD    WFS     TS        P     ME\n",
       "0  0.8  39.33   5.00   531.22  0.396\n",
       "1  0.8  48.33   6.66   693.84  0.414\n",
       "2  0.8  66.83   8.34   959.70  0.433\n",
       "3  0.8  80.00  10.00  1113.30  0.446\n",
       "4  0.8  94.33  11.67  1277.70  0.445"
      ]
     },
     "execution_count": 3,
     "metadata": {},
     "output_type": "execute_result"
    }
   ],
   "source": [
    "# import data\n",
    "df= pd.read_table('datas.txt')\n",
    "df.head()"
   ]
  },
  {
   "cell_type": "code",
   "execution_count": 4,
   "id": "ec638b58",
   "metadata": {},
   "outputs": [
    {
     "data": {
      "text/plain": [
       "Index(['WD', 'WFS', 'TS', 'P', 'ME'], dtype='object')"
      ]
     },
     "execution_count": 4,
     "metadata": {},
     "output_type": "execute_result"
    }
   ],
   "source": [
    "df.columns"
   ]
  },
  {
   "cell_type": "code",
   "execution_count": 5,
   "id": "b4d10cf6",
   "metadata": {},
   "outputs": [],
   "source": [
    "# Split data in x and y\n",
    "x= df[['WD', 'WFS', 'TS', 'P']]\n",
    "y= df[['ME']]"
   ]
  },
  {
   "cell_type": "code",
   "execution_count": 6,
   "id": "6d3c294b",
   "metadata": {},
   "outputs": [
    {
     "name": "stdout",
     "output_type": "stream",
     "text": [
      "(60, 4) (15, 4) (60, 1) (15, 1)\n"
     ]
    }
   ],
   "source": [
    "# Split data into train and test\n",
    "from sklearn.model_selection import train_test_split\n",
    "\n",
    "x_train, x_test, y_train, y_test= train_test_split(x, y, test_size= 0.2, random_state=1)\n",
    "print(x_train.shape, x_test.shape, y_train.shape, y_test.shape)"
   ]
  },
  {
   "cell_type": "code",
   "execution_count": 7,
   "id": "f7f1f08b",
   "metadata": {},
   "outputs": [],
   "source": [
    "# Feature scaling\n",
    "from sklearn.preprocessing import StandardScaler\n",
    "\n",
    "scaler= StandardScaler()\n",
    "x_train= scaler.fit_transform(x_train)\n",
    "x_test= scaler.fit_transform(x_test)"
   ]
  },
  {
   "cell_type": "markdown",
   "id": "087894c1",
   "metadata": {},
   "source": [
    "## GP"
   ]
  },
  {
   "cell_type": "code",
   "execution_count": 8,
   "id": "8695101a",
   "metadata": {},
   "outputs": [
    {
     "data": {
      "text/html": [
       "<style>#sk-container-id-1 {color: black;background-color: white;}#sk-container-id-1 pre{padding: 0;}#sk-container-id-1 div.sk-toggleable {background-color: white;}#sk-container-id-1 label.sk-toggleable__label {cursor: pointer;display: block;width: 100%;margin-bottom: 0;padding: 0.3em;box-sizing: border-box;text-align: center;}#sk-container-id-1 label.sk-toggleable__label-arrow:before {content: \"▸\";float: left;margin-right: 0.25em;color: #696969;}#sk-container-id-1 label.sk-toggleable__label-arrow:hover:before {color: black;}#sk-container-id-1 div.sk-estimator:hover label.sk-toggleable__label-arrow:before {color: black;}#sk-container-id-1 div.sk-toggleable__content {max-height: 0;max-width: 0;overflow: hidden;text-align: left;background-color: #f0f8ff;}#sk-container-id-1 div.sk-toggleable__content pre {margin: 0.2em;color: black;border-radius: 0.25em;background-color: #f0f8ff;}#sk-container-id-1 input.sk-toggleable__control:checked~div.sk-toggleable__content {max-height: 200px;max-width: 100%;overflow: auto;}#sk-container-id-1 input.sk-toggleable__control:checked~label.sk-toggleable__label-arrow:before {content: \"▾\";}#sk-container-id-1 div.sk-estimator input.sk-toggleable__control:checked~label.sk-toggleable__label {background-color: #d4ebff;}#sk-container-id-1 div.sk-label input.sk-toggleable__control:checked~label.sk-toggleable__label {background-color: #d4ebff;}#sk-container-id-1 input.sk-hidden--visually {border: 0;clip: rect(1px 1px 1px 1px);clip: rect(1px, 1px, 1px, 1px);height: 1px;margin: -1px;overflow: hidden;padding: 0;position: absolute;width: 1px;}#sk-container-id-1 div.sk-estimator {font-family: monospace;background-color: #f0f8ff;border: 1px dotted black;border-radius: 0.25em;box-sizing: border-box;margin-bottom: 0.5em;}#sk-container-id-1 div.sk-estimator:hover {background-color: #d4ebff;}#sk-container-id-1 div.sk-parallel-item::after {content: \"\";width: 100%;border-bottom: 1px solid gray;flex-grow: 1;}#sk-container-id-1 div.sk-label:hover label.sk-toggleable__label {background-color: #d4ebff;}#sk-container-id-1 div.sk-serial::before {content: \"\";position: absolute;border-left: 1px solid gray;box-sizing: border-box;top: 0;bottom: 0;left: 50%;z-index: 0;}#sk-container-id-1 div.sk-serial {display: flex;flex-direction: column;align-items: center;background-color: white;padding-right: 0.2em;padding-left: 0.2em;position: relative;}#sk-container-id-1 div.sk-item {position: relative;z-index: 1;}#sk-container-id-1 div.sk-parallel {display: flex;align-items: stretch;justify-content: center;background-color: white;position: relative;}#sk-container-id-1 div.sk-item::before, #sk-container-id-1 div.sk-parallel-item::before {content: \"\";position: absolute;border-left: 1px solid gray;box-sizing: border-box;top: 0;bottom: 0;left: 50%;z-index: -1;}#sk-container-id-1 div.sk-parallel-item {display: flex;flex-direction: column;z-index: 1;position: relative;background-color: white;}#sk-container-id-1 div.sk-parallel-item:first-child::after {align-self: flex-end;width: 50%;}#sk-container-id-1 div.sk-parallel-item:last-child::after {align-self: flex-start;width: 50%;}#sk-container-id-1 div.sk-parallel-item:only-child::after {width: 0;}#sk-container-id-1 div.sk-dashed-wrapped {border: 1px dashed gray;margin: 0 0.4em 0.5em 0.4em;box-sizing: border-box;padding-bottom: 0.4em;background-color: white;}#sk-container-id-1 div.sk-label label {font-family: monospace;font-weight: bold;display: inline-block;line-height: 1.2em;}#sk-container-id-1 div.sk-label-container {text-align: center;}#sk-container-id-1 div.sk-container {/* jupyter's `normalize.less` sets `[hidden] { display: none; }` but bootstrap.min.css set `[hidden] { display: none !important; }` so we also need the `!important` here to be able to override the default hidden behavior on the sphinx rendered scikit-learn.org. See: https://github.com/scikit-learn/scikit-learn/issues/21755 */display: inline-block !important;position: relative;}#sk-container-id-1 div.sk-text-repr-fallback {display: none;}</style><div id=\"sk-container-id-1\" class=\"sk-top-container\"><div class=\"sk-text-repr-fallback\"><pre>GaussianProcessRegressor(alpha=0.001, kernel=1**2 * RBF(length_scale=10),\n",
       "                         n_restarts_optimizer=40, normalize_y=True,\n",
       "                         random_state=1234)</pre><b>In a Jupyter environment, please rerun this cell to show the HTML representation or trust the notebook. <br />On GitHub, the HTML representation is unable to render, please try loading this page with nbviewer.org.</b></div><div class=\"sk-container\" hidden><div class=\"sk-item\"><div class=\"sk-estimator sk-toggleable\"><input class=\"sk-toggleable__control sk-hidden--visually\" id=\"sk-estimator-id-1\" type=\"checkbox\" checked><label for=\"sk-estimator-id-1\" class=\"sk-toggleable__label sk-toggleable__label-arrow\">GaussianProcessRegressor</label><div class=\"sk-toggleable__content\"><pre>GaussianProcessRegressor(alpha=0.001, kernel=1**2 * RBF(length_scale=10),\n",
       "                         n_restarts_optimizer=40, normalize_y=True,\n",
       "                         random_state=1234)</pre></div></div></div></div></div>"
      ],
      "text/plain": [
       "GaussianProcessRegressor(alpha=0.001, kernel=1**2 * RBF(length_scale=10),\n",
       "                         n_restarts_optimizer=40, normalize_y=True,\n",
       "                         random_state=1234)"
      ]
     },
     "execution_count": 8,
     "metadata": {},
     "output_type": "execute_result"
    }
   ],
   "source": [
    "from sklearn.gaussian_process import GaussianProcessRegressor\n",
    "from sklearn.gaussian_process.kernels import RBF, ConstantKernel as C\n",
    "\n",
    "gp= GaussianProcessRegressor(alpha=0.001, copy_X_train=True,\n",
    "                         kernel=1**2 * RBF(length_scale=10),\n",
    "                         n_restarts_optimizer=40, normalize_y=True,\n",
    "                         optimizer='fmin_l_bfgs_b', random_state=1234)\n",
    "gp.fit(x_train, y_train)"
   ]
  },
  {
   "cell_type": "code",
   "execution_count": 9,
   "id": "bc0fabd3",
   "metadata": {},
   "outputs": [],
   "source": [
    "y_train_gp= gp.predict(x_train)\n",
    "y_test_gp= gp.predict(x_test)"
   ]
  },
  {
   "cell_type": "code",
   "execution_count": 10,
   "id": "fe4885f2",
   "metadata": {},
   "outputs": [
    {
     "name": "stdout",
     "output_type": "stream",
     "text": [
      "8.063344356780536e-08\n",
      "............\n",
      "0.0008340061786338994\n"
     ]
    }
   ],
   "source": [
    "# Mean squared erro\n",
    "from sklearn.metrics import mean_squared_error\n",
    "mse_train_gp= mean_squared_error(y_train, y_train_gp)\n",
    "mse_test_gp= mean_squared_error(y_test, y_test_gp)\n",
    "print(mse_train_gp)\n",
    "print('............')\n",
    "print(mse_test_gp)"
   ]
  },
  {
   "cell_type": "code",
   "execution_count": 11,
   "id": "5bc43d85",
   "metadata": {},
   "outputs": [
    {
     "name": "stdout",
     "output_type": "stream",
     "text": [
      "0.9999727852262603\n",
      "............\n",
      "0.7150433085517849\n"
     ]
    }
   ],
   "source": [
    "# R2 score\n",
    "from sklearn.metrics import r2_score\n",
    "r2_train_gp= r2_score(y_train, y_train_gp)\n",
    "r2_test_gp= r2_score(y_test, y_test_gp)\n",
    "print(r2_train_gp)\n",
    "print('............')\n",
    "print(r2_test_gp)"
   ]
  },
  {
   "cell_type": "code",
   "execution_count": 12,
   "id": "b534a2fc",
   "metadata": {},
   "outputs": [],
   "source": [
    "# Function defination for R2 and Adj R2\n",
    "\n",
    "def r2(actual: np.ndarray, predicted: np.ndarray):\n",
    "    \"\"\" R2 Score \"\"\"\n",
    "    return r2_score(actual, predicted)\n",
    "\n",
    "def adjr2(actual: np.ndarray, predicted: np.ndarray, rowcount: np.int, featurecount: np.int):\n",
    "    \"\"\" Adj R2 Score \"\"\"\n",
    "    return 1-(1-r2(actual,predicted))*(rowcount-1)/(rowcount-featurecount)"
   ]
  },
  {
   "cell_type": "code",
   "execution_count": 13,
   "id": "a0a028be",
   "metadata": {},
   "outputs": [
    {
     "name": "stdout",
     "output_type": "stream",
     "text": [
      "0.9999727852262603\n",
      "............\n",
      "0.7150433085517849\n",
      "............\n",
      "0.9999723160060234\n",
      "............\n",
      "0.6931235630557684\n"
     ]
    }
   ],
   "source": [
    "r2_train_gp= r2(y_train, y_train_gp)\n",
    "r2_test_gp= r2(y_test, y_test_gp)\n",
    "\n",
    "adj_r2_train_gp= adjr2(y_train, y_train_gp, 60, 2)\n",
    "adj_r2_test_gp= adjr2(y_test, y_test_gp, 15, 2)\n",
    "\n",
    "print(r2_train_gp)\n",
    "print('............')\n",
    "print(r2_test_gp)\n",
    "print('............')\n",
    "print(adj_r2_train_gp)\n",
    "print('............')\n",
    "print(adj_r2_test_gp)"
   ]
  },
  {
   "cell_type": "code",
   "execution_count": 14,
   "id": "fe610cd5",
   "metadata": {},
   "outputs": [
    {
     "name": "stdout",
     "output_type": "stream",
     "text": [
      "0.00018662792820824854\n",
      "............\n",
      "0.022455431820443163\n"
     ]
    }
   ],
   "source": [
    "# Mean absolute error\n",
    "from sklearn.metrics import mean_absolute_error\n",
    "mae_train_gp= mean_absolute_error(y_train, y_train_gp)\n",
    "mae_test_gp= mean_absolute_error(y_test, y_test_gp)\n",
    "print(mae_train_gp)\n",
    "print('............')\n",
    "print(mae_test_gp)"
   ]
  },
  {
   "cell_type": "code",
   "execution_count": 15,
   "id": "af187133",
   "metadata": {},
   "outputs": [
    {
     "name": "stdout",
     "output_type": "stream",
     "text": [
      "0.00028396028519461194\n",
      "............\n",
      "0.028879165130486363\n"
     ]
    }
   ],
   "source": [
    "# RMSE\n",
    "rmse_train_gp = np.sqrt(mse_train_gp)\n",
    "rmse_test_gp = np.sqrt(mse_test_gp)\n",
    "print(rmse_train_gp)\n",
    "print('............')\n",
    "print(rmse_test_gp)"
   ]
  },
  {
   "cell_type": "code",
   "execution_count": 16,
   "id": "7898f6c6",
   "metadata": {},
   "outputs": [],
   "source": [
    "#Randomized search\n",
    "# initialize model and define the space of the hyperparameters to\n",
    "# perform the grid-search over\n",
    "model = gp\n",
    "n_restarts_optimizer = [5, 10, 20, 40]\n",
    "alpha = [0.001, 0.01, 0.1, 1]\n",
    "\n",
    "\n",
    "grid = dict(n_restarts_optimizer=n_restarts_optimizer, alpha=alpha)"
   ]
  },
  {
   "cell_type": "code",
   "execution_count": 17,
   "id": "acfdac81",
   "metadata": {},
   "outputs": [
    {
     "name": "stdout",
     "output_type": "stream",
     "text": [
      "[INFO] grid searching over the hyperparameters...\n",
      "[INFO] evaluating...\n",
      "R2: 0.85\n",
      "GaussianProcessRegressor(alpha=0.1, kernel=1**2 * RBF(length_scale=10),\n",
      "                         n_restarts_optimizer=10, normalize_y=True,\n",
      "                         random_state=1234)\n"
     ]
    }
   ],
   "source": [
    "# initialize a cross-validation fold and perform a randomized-search\n",
    "# to tune the hyperparameters\n",
    "print(\"[INFO] grid searching over the hyperparameters...\")\n",
    "cvFold = RepeatedKFold(n_splits=10, n_repeats=3, random_state=1234)\n",
    "randomSearch = RandomizedSearchCV(estimator=model, n_jobs=-1,\n",
    "\tcv=cvFold, param_distributions=grid,\n",
    "\tscoring=\"neg_mean_squared_error\")\n",
    "searchResults = randomSearch.fit(x_train, y_train)\n",
    "# extract the best model and evaluate it\n",
    "print(\"[INFO] evaluating...\")\n",
    "bestModel = searchResults.best_estimator_\n",
    "print(\"R2: {:.2f}\".format(bestModel.score(x_test, y_test)))\n",
    "print(bestModel)"
   ]
  },
  {
   "cell_type": "markdown",
   "id": "5a5835d3",
   "metadata": {},
   "source": [
    "### Evaluation metrics\n",
    "\n",
    "|Sr.No.|Adj R2 | R2 | MSE | RMSE | MAE |\n",
    "|---|---| --- | --- | --- | --- |\n",
    "|Train|0.99| 0.99 | 8.06e-8 | 0.0002 | 0.0001 |\n",
    "|Test| 0.69 |0.71 | 8.3e-4 | 0.0288 | 0.022 |"
   ]
  },
  {
   "cell_type": "markdown",
   "id": "72ec2752",
   "metadata": {},
   "source": [
    "## XGB"
   ]
  },
  {
   "cell_type": "code",
   "execution_count": 18,
   "id": "3a8de195",
   "metadata": {},
   "outputs": [
    {
     "data": {
      "text/html": [
       "<style>#sk-container-id-2 {color: black;background-color: white;}#sk-container-id-2 pre{padding: 0;}#sk-container-id-2 div.sk-toggleable {background-color: white;}#sk-container-id-2 label.sk-toggleable__label {cursor: pointer;display: block;width: 100%;margin-bottom: 0;padding: 0.3em;box-sizing: border-box;text-align: center;}#sk-container-id-2 label.sk-toggleable__label-arrow:before {content: \"▸\";float: left;margin-right: 0.25em;color: #696969;}#sk-container-id-2 label.sk-toggleable__label-arrow:hover:before {color: black;}#sk-container-id-2 div.sk-estimator:hover label.sk-toggleable__label-arrow:before {color: black;}#sk-container-id-2 div.sk-toggleable__content {max-height: 0;max-width: 0;overflow: hidden;text-align: left;background-color: #f0f8ff;}#sk-container-id-2 div.sk-toggleable__content pre {margin: 0.2em;color: black;border-radius: 0.25em;background-color: #f0f8ff;}#sk-container-id-2 input.sk-toggleable__control:checked~div.sk-toggleable__content {max-height: 200px;max-width: 100%;overflow: auto;}#sk-container-id-2 input.sk-toggleable__control:checked~label.sk-toggleable__label-arrow:before {content: \"▾\";}#sk-container-id-2 div.sk-estimator input.sk-toggleable__control:checked~label.sk-toggleable__label {background-color: #d4ebff;}#sk-container-id-2 div.sk-label input.sk-toggleable__control:checked~label.sk-toggleable__label {background-color: #d4ebff;}#sk-container-id-2 input.sk-hidden--visually {border: 0;clip: rect(1px 1px 1px 1px);clip: rect(1px, 1px, 1px, 1px);height: 1px;margin: -1px;overflow: hidden;padding: 0;position: absolute;width: 1px;}#sk-container-id-2 div.sk-estimator {font-family: monospace;background-color: #f0f8ff;border: 1px dotted black;border-radius: 0.25em;box-sizing: border-box;margin-bottom: 0.5em;}#sk-container-id-2 div.sk-estimator:hover {background-color: #d4ebff;}#sk-container-id-2 div.sk-parallel-item::after {content: \"\";width: 100%;border-bottom: 1px solid gray;flex-grow: 1;}#sk-container-id-2 div.sk-label:hover label.sk-toggleable__label {background-color: #d4ebff;}#sk-container-id-2 div.sk-serial::before {content: \"\";position: absolute;border-left: 1px solid gray;box-sizing: border-box;top: 0;bottom: 0;left: 50%;z-index: 0;}#sk-container-id-2 div.sk-serial {display: flex;flex-direction: column;align-items: center;background-color: white;padding-right: 0.2em;padding-left: 0.2em;position: relative;}#sk-container-id-2 div.sk-item {position: relative;z-index: 1;}#sk-container-id-2 div.sk-parallel {display: flex;align-items: stretch;justify-content: center;background-color: white;position: relative;}#sk-container-id-2 div.sk-item::before, #sk-container-id-2 div.sk-parallel-item::before {content: \"\";position: absolute;border-left: 1px solid gray;box-sizing: border-box;top: 0;bottom: 0;left: 50%;z-index: -1;}#sk-container-id-2 div.sk-parallel-item {display: flex;flex-direction: column;z-index: 1;position: relative;background-color: white;}#sk-container-id-2 div.sk-parallel-item:first-child::after {align-self: flex-end;width: 50%;}#sk-container-id-2 div.sk-parallel-item:last-child::after {align-self: flex-start;width: 50%;}#sk-container-id-2 div.sk-parallel-item:only-child::after {width: 0;}#sk-container-id-2 div.sk-dashed-wrapped {border: 1px dashed gray;margin: 0 0.4em 0.5em 0.4em;box-sizing: border-box;padding-bottom: 0.4em;background-color: white;}#sk-container-id-2 div.sk-label label {font-family: monospace;font-weight: bold;display: inline-block;line-height: 1.2em;}#sk-container-id-2 div.sk-label-container {text-align: center;}#sk-container-id-2 div.sk-container {/* jupyter's `normalize.less` sets `[hidden] { display: none; }` but bootstrap.min.css set `[hidden] { display: none !important; }` so we also need the `!important` here to be able to override the default hidden behavior on the sphinx rendered scikit-learn.org. See: https://github.com/scikit-learn/scikit-learn/issues/21755 */display: inline-block !important;position: relative;}#sk-container-id-2 div.sk-text-repr-fallback {display: none;}</style><div id=\"sk-container-id-2\" class=\"sk-top-container\"><div class=\"sk-text-repr-fallback\"><pre>XGBRegressor(base_score=0.5, booster=&#x27;gbtree&#x27;, callbacks=None,\n",
       "             colsample_bylevel=1, colsample_bynode=1, colsample_bytree=1,\n",
       "             early_stopping_rounds=None, enable_categorical=False,\n",
       "             eval_metric=None, gamma=0, gpu_id=-1, grow_policy=&#x27;depthwise&#x27;,\n",
       "             importance_type=None, interaction_constraints=&#x27;&#x27;,\n",
       "             learning_rate=0.300000012, max_bin=256, max_cat_to_onehot=4,\n",
       "             max_delta_step=0, max_depth=6, max_leaves=0, min_child_weight=1,\n",
       "             missing=nan, monotone_constraints=&#x27;()&#x27;, n_estimators=100, n_jobs=0,\n",
       "             num_parallel_tree=1, predictor=&#x27;auto&#x27;, random_state=0, reg_alpha=0,\n",
       "             reg_lambda=1, ...)</pre><b>In a Jupyter environment, please rerun this cell to show the HTML representation or trust the notebook. <br />On GitHub, the HTML representation is unable to render, please try loading this page with nbviewer.org.</b></div><div class=\"sk-container\" hidden><div class=\"sk-item\"><div class=\"sk-estimator sk-toggleable\"><input class=\"sk-toggleable__control sk-hidden--visually\" id=\"sk-estimator-id-2\" type=\"checkbox\" checked><label for=\"sk-estimator-id-2\" class=\"sk-toggleable__label sk-toggleable__label-arrow\">XGBRegressor</label><div class=\"sk-toggleable__content\"><pre>XGBRegressor(base_score=0.5, booster=&#x27;gbtree&#x27;, callbacks=None,\n",
       "             colsample_bylevel=1, colsample_bynode=1, colsample_bytree=1,\n",
       "             early_stopping_rounds=None, enable_categorical=False,\n",
       "             eval_metric=None, gamma=0, gpu_id=-1, grow_policy=&#x27;depthwise&#x27;,\n",
       "             importance_type=None, interaction_constraints=&#x27;&#x27;,\n",
       "             learning_rate=0.300000012, max_bin=256, max_cat_to_onehot=4,\n",
       "             max_delta_step=0, max_depth=6, max_leaves=0, min_child_weight=1,\n",
       "             missing=nan, monotone_constraints=&#x27;()&#x27;, n_estimators=100, n_jobs=0,\n",
       "             num_parallel_tree=1, predictor=&#x27;auto&#x27;, random_state=0, reg_alpha=0,\n",
       "             reg_lambda=1, ...)</pre></div></div></div></div></div>"
      ],
      "text/plain": [
       "XGBRegressor(base_score=0.5, booster='gbtree', callbacks=None,\n",
       "             colsample_bylevel=1, colsample_bynode=1, colsample_bytree=1,\n",
       "             early_stopping_rounds=None, enable_categorical=False,\n",
       "             eval_metric=None, gamma=0, gpu_id=-1, grow_policy='depthwise',\n",
       "             importance_type=None, interaction_constraints='',\n",
       "             learning_rate=0.300000012, max_bin=256, max_cat_to_onehot=4,\n",
       "             max_delta_step=0, max_depth=6, max_leaves=0, min_child_weight=1,\n",
       "             missing=nan, monotone_constraints='()', n_estimators=100, n_jobs=0,\n",
       "             num_parallel_tree=1, predictor='auto', random_state=0, reg_alpha=0,\n",
       "             reg_lambda=1, ...)"
      ]
     },
     "execution_count": 18,
     "metadata": {},
     "output_type": "execute_result"
    }
   ],
   "source": [
    "from xgboost import XGBRegressor\n",
    "xgb= XGBRegressor()\n",
    "xgb.fit(x_train, y_train)"
   ]
  },
  {
   "cell_type": "code",
   "execution_count": 19,
   "id": "2ce36c93",
   "metadata": {
    "scrolled": true
   },
   "outputs": [],
   "source": [
    "y_train_xgb= xgb.predict(x_train)\n",
    "y_test_xgb= xgb.predict(x_test)"
   ]
  },
  {
   "cell_type": "code",
   "execution_count": 20,
   "id": "9e9fd4af",
   "metadata": {},
   "outputs": [
    {
     "name": "stdout",
     "output_type": "stream",
     "text": [
      "0.9998111730968064\n",
      "............\n",
      "0.7878886874042836\n",
      "............\n",
      "0.9998079174605445\n",
      "............\n",
      "0.7715724325892286\n"
     ]
    }
   ],
   "source": [
    "r2_train_xgb= r2(y_train, y_train_xgb)\n",
    "r2_test_xgb= r2(y_test, y_test_xgb)\n",
    "\n",
    "adj_r2_train_xgb= adjr2(y_train, y_train_xgb, 60, 2)\n",
    "adj_r2_test_xgb= adjr2(y_test, y_test_xgb, 15, 2)\n",
    "\n",
    "print(r2_train_xgb)\n",
    "print('............')\n",
    "print(r2_test_xgb)\n",
    "print('............')\n",
    "print(adj_r2_train_xgb)\n",
    "print('............')\n",
    "print(adj_r2_test_xgb)"
   ]
  },
  {
   "cell_type": "code",
   "execution_count": 21,
   "id": "db89dffd",
   "metadata": {},
   "outputs": [
    {
     "name": "stdout",
     "output_type": "stream",
     "text": [
      "5.594668391655011e-07\n",
      "............\n",
      "0.0006208036188373633\n"
     ]
    }
   ],
   "source": [
    "# Mean squared error\n",
    "from sklearn.metrics import mean_squared_error\n",
    "mse_train_xgb= mean_squared_error(y_train, y_train_xgb)\n",
    "mse_test_xgb= mean_squared_error(y_test, y_test_xgb)\n",
    "print(mse_train_xgb)\n",
    "print('............')\n",
    "print(mse_test_xgb)"
   ]
  },
  {
   "cell_type": "code",
   "execution_count": 22,
   "id": "289e9eea",
   "metadata": {},
   "outputs": [
    {
     "name": "stdout",
     "output_type": "stream",
     "text": [
      "0.0006044409791628568\n",
      "............\n",
      "0.019862835073471072\n"
     ]
    }
   ],
   "source": [
    "# Mean absolute error\n",
    "from sklearn.metrics import mean_absolute_error\n",
    "mae_train_xgb= mean_absolute_error(y_train, y_train_xgb)\n",
    "mae_test_xgb= mean_absolute_error(y_test, y_test_xgb)\n",
    "print(mae_train_xgb)\n",
    "print('............')\n",
    "print(mae_test_xgb)"
   ]
  },
  {
   "cell_type": "code",
   "execution_count": 23,
   "id": "61bfccf3",
   "metadata": {},
   "outputs": [
    {
     "name": "stdout",
     "output_type": "stream",
     "text": [
      "0.0007479751594575191\n",
      "............\n",
      "0.024915931024895765\n"
     ]
    }
   ],
   "source": [
    "# RMSE\n",
    "rmse_train_xgb = np.sqrt(mse_train_xgb)\n",
    "rmse_test_xgb = np.sqrt(mse_test_xgb)\n",
    "print(rmse_train_xgb)\n",
    "print('............')\n",
    "print(rmse_test_xgb)"
   ]
  },
  {
   "cell_type": "code",
   "execution_count": 24,
   "id": "98dde56d",
   "metadata": {},
   "outputs": [],
   "source": [
    "# initialize model and define the space of the hyperparameters to\n",
    "# perform the grid-search over\n",
    "model = xgb\n",
    "n_estimators = [10, 100, 1000, 10000]\n",
    "learning_rate = [0.1, 0.01, 1e-3]\n",
    "max_depth = [5, 10, 20, 40]\n",
    "reg_lambda = [0.01, 0.1, 1]\n",
    "\n",
    "\n",
    "grid = dict(n_estimators=n_estimators, learning_rate=learning_rate, max_depth=max_depth )"
   ]
  },
  {
   "cell_type": "code",
   "execution_count": 25,
   "id": "413d33b1",
   "metadata": {},
   "outputs": [
    {
     "name": "stdout",
     "output_type": "stream",
     "text": [
      "[INFO] grid searching over the hyperparameters...\n",
      "[INFO] evaluating...\n",
      "XGBRegressor(base_score=0.5, booster='gbtree', callbacks=None,\n",
      "             colsample_bylevel=1, colsample_bynode=1, colsample_bytree=1,\n",
      "             early_stopping_rounds=None, enable_categorical=False,\n",
      "             eval_metric=None, gamma=0, gpu_id=-1, grow_policy='depthwise',\n",
      "             importance_type=None, interaction_constraints='',\n",
      "             learning_rate=0.1, max_bin=256, max_cat_to_onehot=4,\n",
      "             max_delta_step=0, max_depth=5, max_leaves=0, min_child_weight=1,\n",
      "             missing=nan, monotone_constraints='()', n_estimators=1000,\n",
      "             n_jobs=0, num_parallel_tree=1, predictor='auto', random_state=0,\n",
      "             reg_alpha=0, reg_lambda=1, ...)\n"
     ]
    }
   ],
   "source": [
    "# initialize a cross-validation fold and perform a randomized-search\n",
    "# to tune the hyperparameters\n",
    "print(\"[INFO] grid searching over the hyperparameters...\")\n",
    "cvFold = RepeatedKFold(n_splits=10, n_repeats=3, random_state=1)\n",
    "randomSearch = RandomizedSearchCV(estimator=model, n_jobs=-1,\n",
    "\tcv=cvFold, param_distributions=grid,\n",
    "\tscoring=\"neg_mean_squared_error\")\n",
    "searchResults = randomSearch.fit(x_train, y_train)\n",
    "# extract the best model and evaluate it\n",
    "print(\"[INFO] evaluating...\")\n",
    "bestModel = searchResults.best_estimator_\n",
    "#print(\"R2: {:.2f}\".format(bestModel.score(x_test, y_test)))\n",
    "print(bestModel)"
   ]
  },
  {
   "cell_type": "markdown",
   "id": "78181e1f",
   "metadata": {},
   "source": [
    "### Evaluation metrics\n",
    "\n",
    "|Sr.No.|Adj R2 | R2 | MSE | RMSE | MAE |\n",
    "|---|---| --- | --- | --- | --- |\n",
    "|Train|0.99| 0.99 | 5.59e-7 | 0.0007 | 0.0006 |\n",
    "|Test| 0.77 |0.78 | 6.2e-4 | 0.0249 | 0.019 |"
   ]
  },
  {
   "cell_type": "code",
   "execution_count": 26,
   "id": "25a2e6fd",
   "metadata": {},
   "outputs": [
    {
     "name": "stdout",
     "output_type": "stream",
     "text": [
      "Feature: 0, Score: 0.02669\n",
      "Feature: 1, Score: 0.10854\n",
      "Feature: 2, Score: 0.09959\n",
      "Feature: 3, Score: 0.76517\n"
     ]
    }
   ],
   "source": [
    "# Feature importance analysis\n",
    "\n",
    "importance = xgb.feature_importances_\n",
    "# summarize feature importance\n",
    "\n",
    "for i,v in enumerate(importance):\n",
    "\tprint('Feature: %0d, Score: %.5f' % (i,v))"
   ]
  },
  {
   "cell_type": "markdown",
   "id": "0a7d99b4",
   "metadata": {},
   "source": [
    "## ANN"
   ]
  },
  {
   "cell_type": "code",
   "execution_count": 27,
   "id": "aea22ef9",
   "metadata": {},
   "outputs": [
    {
     "data": {
      "text/html": [
       "<style>#sk-container-id-3 {color: black;background-color: white;}#sk-container-id-3 pre{padding: 0;}#sk-container-id-3 div.sk-toggleable {background-color: white;}#sk-container-id-3 label.sk-toggleable__label {cursor: pointer;display: block;width: 100%;margin-bottom: 0;padding: 0.3em;box-sizing: border-box;text-align: center;}#sk-container-id-3 label.sk-toggleable__label-arrow:before {content: \"▸\";float: left;margin-right: 0.25em;color: #696969;}#sk-container-id-3 label.sk-toggleable__label-arrow:hover:before {color: black;}#sk-container-id-3 div.sk-estimator:hover label.sk-toggleable__label-arrow:before {color: black;}#sk-container-id-3 div.sk-toggleable__content {max-height: 0;max-width: 0;overflow: hidden;text-align: left;background-color: #f0f8ff;}#sk-container-id-3 div.sk-toggleable__content pre {margin: 0.2em;color: black;border-radius: 0.25em;background-color: #f0f8ff;}#sk-container-id-3 input.sk-toggleable__control:checked~div.sk-toggleable__content {max-height: 200px;max-width: 100%;overflow: auto;}#sk-container-id-3 input.sk-toggleable__control:checked~label.sk-toggleable__label-arrow:before {content: \"▾\";}#sk-container-id-3 div.sk-estimator input.sk-toggleable__control:checked~label.sk-toggleable__label {background-color: #d4ebff;}#sk-container-id-3 div.sk-label input.sk-toggleable__control:checked~label.sk-toggleable__label {background-color: #d4ebff;}#sk-container-id-3 input.sk-hidden--visually {border: 0;clip: rect(1px 1px 1px 1px);clip: rect(1px, 1px, 1px, 1px);height: 1px;margin: -1px;overflow: hidden;padding: 0;position: absolute;width: 1px;}#sk-container-id-3 div.sk-estimator {font-family: monospace;background-color: #f0f8ff;border: 1px dotted black;border-radius: 0.25em;box-sizing: border-box;margin-bottom: 0.5em;}#sk-container-id-3 div.sk-estimator:hover {background-color: #d4ebff;}#sk-container-id-3 div.sk-parallel-item::after {content: \"\";width: 100%;border-bottom: 1px solid gray;flex-grow: 1;}#sk-container-id-3 div.sk-label:hover label.sk-toggleable__label {background-color: #d4ebff;}#sk-container-id-3 div.sk-serial::before {content: \"\";position: absolute;border-left: 1px solid gray;box-sizing: border-box;top: 0;bottom: 0;left: 50%;z-index: 0;}#sk-container-id-3 div.sk-serial {display: flex;flex-direction: column;align-items: center;background-color: white;padding-right: 0.2em;padding-left: 0.2em;position: relative;}#sk-container-id-3 div.sk-item {position: relative;z-index: 1;}#sk-container-id-3 div.sk-parallel {display: flex;align-items: stretch;justify-content: center;background-color: white;position: relative;}#sk-container-id-3 div.sk-item::before, #sk-container-id-3 div.sk-parallel-item::before {content: \"\";position: absolute;border-left: 1px solid gray;box-sizing: border-box;top: 0;bottom: 0;left: 50%;z-index: -1;}#sk-container-id-3 div.sk-parallel-item {display: flex;flex-direction: column;z-index: 1;position: relative;background-color: white;}#sk-container-id-3 div.sk-parallel-item:first-child::after {align-self: flex-end;width: 50%;}#sk-container-id-3 div.sk-parallel-item:last-child::after {align-self: flex-start;width: 50%;}#sk-container-id-3 div.sk-parallel-item:only-child::after {width: 0;}#sk-container-id-3 div.sk-dashed-wrapped {border: 1px dashed gray;margin: 0 0.4em 0.5em 0.4em;box-sizing: border-box;padding-bottom: 0.4em;background-color: white;}#sk-container-id-3 div.sk-label label {font-family: monospace;font-weight: bold;display: inline-block;line-height: 1.2em;}#sk-container-id-3 div.sk-label-container {text-align: center;}#sk-container-id-3 div.sk-container {/* jupyter's `normalize.less` sets `[hidden] { display: none; }` but bootstrap.min.css set `[hidden] { display: none !important; }` so we also need the `!important` here to be able to override the default hidden behavior on the sphinx rendered scikit-learn.org. See: https://github.com/scikit-learn/scikit-learn/issues/21755 */display: inline-block !important;position: relative;}#sk-container-id-3 div.sk-text-repr-fallback {display: none;}</style><div id=\"sk-container-id-3\" class=\"sk-top-container\"><div class=\"sk-text-repr-fallback\"><pre>MLPRegressor(activation=&#x27;tanh&#x27;, hidden_layer_sizes=8, solver=&#x27;lbfgs&#x27;)</pre><b>In a Jupyter environment, please rerun this cell to show the HTML representation or trust the notebook. <br />On GitHub, the HTML representation is unable to render, please try loading this page with nbviewer.org.</b></div><div class=\"sk-container\" hidden><div class=\"sk-item\"><div class=\"sk-estimator sk-toggleable\"><input class=\"sk-toggleable__control sk-hidden--visually\" id=\"sk-estimator-id-3\" type=\"checkbox\" checked><label for=\"sk-estimator-id-3\" class=\"sk-toggleable__label sk-toggleable__label-arrow\">MLPRegressor</label><div class=\"sk-toggleable__content\"><pre>MLPRegressor(activation=&#x27;tanh&#x27;, hidden_layer_sizes=8, solver=&#x27;lbfgs&#x27;)</pre></div></div></div></div></div>"
      ],
      "text/plain": [
       "MLPRegressor(activation='tanh', hidden_layer_sizes=8, solver='lbfgs')"
      ]
     },
     "execution_count": 27,
     "metadata": {},
     "output_type": "execute_result"
    }
   ],
   "source": [
    "from sklearn.neural_network import MLPRegressor\n",
    "\n",
    "mlp= MLPRegressor(activation='tanh', hidden_layer_sizes=8, solver='lbfgs')\n",
    "mlp.fit(x_train, y_train)"
   ]
  },
  {
   "cell_type": "code",
   "execution_count": 28,
   "id": "fb2010be",
   "metadata": {},
   "outputs": [],
   "source": [
    "y_train_mlp= mlp.predict(x_train)\n",
    "y_test_mlp= mlp.predict(x_test)"
   ]
  },
  {
   "cell_type": "code",
   "execution_count": 29,
   "id": "71ac4d09",
   "metadata": {},
   "outputs": [
    {
     "name": "stdout",
     "output_type": "stream",
     "text": [
      "0.9587534257523816\n",
      "............\n",
      "0.4512365048911887\n",
      "............\n",
      "0.9580422779205262\n",
      "............\n",
      "0.4090239283443571\n"
     ]
    }
   ],
   "source": [
    "r2_train_mlp= r2(y_train, y_train_mlp)\n",
    "r2_test_mlp= r2(y_test, y_test_mlp)\n",
    "\n",
    "adj_r2_train_mlp= adjr2(y_train, y_train_mlp, 60, 2)\n",
    "adj_r2_test_mlp= adjr2(y_test, y_test_mlp, 15, 2)\n",
    "\n",
    "print(r2_train_mlp)\n",
    "print('............')\n",
    "print(r2_test_mlp)\n",
    "print('............')\n",
    "print(adj_r2_train_mlp)\n",
    "print('............')\n",
    "print(adj_r2_test_mlp)"
   ]
  },
  {
   "cell_type": "code",
   "execution_count": 30,
   "id": "60087a66",
   "metadata": {},
   "outputs": [
    {
     "name": "stdout",
     "output_type": "stream",
     "text": [
      "0.00012220764165719089\n",
      "............\n",
      "0.0016061112416890005\n"
     ]
    }
   ],
   "source": [
    "# Mean squared error\n",
    "from sklearn.metrics import mean_squared_error\n",
    "mse_train_mlp= mean_squared_error(y_train, y_train_mlp)\n",
    "mse_test_mlp= mean_squared_error(y_test, y_test_mlp)\n",
    "print(mse_train_mlp)\n",
    "print('............')\n",
    "print(mse_test_mlp)"
   ]
  },
  {
   "cell_type": "code",
   "execution_count": 31,
   "id": "f65df3bd",
   "metadata": {},
   "outputs": [
    {
     "name": "stdout",
     "output_type": "stream",
     "text": [
      "0.011054756517318276\n",
      "............\n",
      "0.04007631771618995\n"
     ]
    }
   ],
   "source": [
    "# RMSE\n",
    "rmse_train_mlp = np.sqrt(mse_train_mlp)\n",
    "rmse_test_mlp = np.sqrt(mse_test_mlp)\n",
    "print(rmse_train_mlp)\n",
    "print('............')\n",
    "print(rmse_test_mlp)"
   ]
  },
  {
   "cell_type": "code",
   "execution_count": 32,
   "id": "c0611474",
   "metadata": {},
   "outputs": [
    {
     "name": "stdout",
     "output_type": "stream",
     "text": [
      "0.008750635292263902\n",
      "............\n",
      "0.03078545807203265\n"
     ]
    }
   ],
   "source": [
    "# Mean absolute error\n",
    "from sklearn.metrics import mean_absolute_error\n",
    "mae_train_mlp= mean_absolute_error(y_train, y_train_mlp)\n",
    "mae_test_mlp= mean_absolute_error(y_test, y_test_mlp)\n",
    "print(mae_train_mlp)\n",
    "print('............')\n",
    "print(mae_test_mlp)"
   ]
  },
  {
   "cell_type": "code",
   "execution_count": 33,
   "id": "0b82b653",
   "metadata": {},
   "outputs": [],
   "source": [
    "# initialize model and define the space of the hyperparameters to\n",
    "# perform the grid-search over\n",
    "model = mlp\n",
    "hidden_layer_sizes = [5, 8, 10]\n",
    "activation = ['relu','tanh']\n",
    "solver = [\"lbfgs\", \"sgd\", \"adam\"]\n",
    "\n",
    "grid = dict(hidden_layer_sizes=hidden_layer_sizes, activation=activation, solver=solver )"
   ]
  },
  {
   "cell_type": "code",
   "execution_count": 34,
   "id": "568103f4",
   "metadata": {},
   "outputs": [
    {
     "name": "stdout",
     "output_type": "stream",
     "text": [
      "[INFO] grid searching over the hyperparameters...\n",
      "[INFO] evaluating...\n",
      "R2: 0.53\n",
      "MLPRegressor(activation='tanh', hidden_layer_sizes=8, solver='lbfgs')\n"
     ]
    }
   ],
   "source": [
    "# initialize a cross-validation fold and perform a randomized-search\n",
    "# to tune the hyperparameters\n",
    "print(\"[INFO] grid searching over the hyperparameters...\")\n",
    "cvFold = RepeatedKFold(n_splits=10, n_repeats=3, random_state=1234)\n",
    "randomSearch = RandomizedSearchCV(estimator=model, n_jobs=-1,\n",
    "\tcv=cvFold, param_distributions=grid,\n",
    "\tscoring=\"neg_mean_squared_error\")\n",
    "searchResults = randomSearch.fit(x_train, y_train)\n",
    "# extract the best model and evaluate it\n",
    "print(\"[INFO] evaluating...\")\n",
    "bestModel = searchResults.best_estimator_\n",
    "print(\"R2: {:.2f}\".format(bestModel.score(x_test, y_test)))\n",
    "print(bestModel)"
   ]
  },
  {
   "cell_type": "markdown",
   "id": "2e492991",
   "metadata": {},
   "source": [
    "### Evaluation metrics\n",
    "\n",
    "|Sr.No.|Adj R2 | R2 | MSE | RMSE | MAE |\n",
    "|---|---| --- | --- | --- | --- |\n",
    "|Train|0.94| 0.95 | 0.0001 | 0.012 | 0.009 |\n",
    "|Test| 0.57 |0.60 | 0.001 | 0.033 | 0.027 |"
   ]
  },
  {
   "cell_type": "code",
   "execution_count": 35,
   "id": "c0b0b53f",
   "metadata": {},
   "outputs": [
    {
     "name": "stdout",
     "output_type": "stream",
     "text": [
      "--------------------------------------------------------------\n",
      "ML algorithm | CV-R2 | CV-MSE | CV-MAE |    IM \n",
      "--------------------------------------------------------------\n",
      "           XGBR | 0.8611 | 0.0004 | 0.0145 | 0.1409 \n",
      "            GPs | 0.6685 | 0.0009 | 0.0225 | 0.3336 \n",
      "            MLP | 0.8347 | 0.0004 | 0.0159 | 0.1673 \n",
      "--------------------------------------------------------------\n"
     ]
    }
   ],
   "source": [
    "## Cross validation\n",
    "from sklearn.model_selection import cross_val_score as CV\n",
    "from sklearn.metrics import mean_squared_error as MSE\n",
    "from sklearn.metrics import mean_absolute_error as MAE\n",
    "\n",
    "models = [ xgb,  gp, mlp, ]\n",
    "labels = ['XGBR', 'GPs', 'MLP', '']\n",
    "IMS = []\n",
    "\n",
    "print(\"--------------------------------------------------------------\")\n",
    "print(\"%5s | %5s | %5s | %5s | %5s \" % (\"ML algorithm\",  \"CV-R2\", \"CV-MSE\", \"CV-MAE\", \"IM\"))\n",
    "print(\"--------------------------------------------------------------\")\n",
    "\n",
    "for mod, label in zip( models, labels): \n",
    "  y_star_train = mod.predict(x_train)\n",
    " \n",
    "  scoreR2 = CV(mod, x_train, y_train, cv=5, scoring='r2')\n",
    "  #print(-1*scoreR2)\n",
    "  scoreMSE = CV(mod, x_train, y_train, cv=5, scoring='neg_mean_squared_error')\n",
    "  #print(-1*scoreMSE)\n",
    "  scoreMAE = CV(mod, x_train, y_train, cv=5, scoring='neg_mean_absolute_error')\n",
    "  #print(-1*scoreMAE)\n",
    "  IM=np.sqrt(((1-scoreR2)**2) + (scoreMSE) + (scoreMAE**2) )\n",
    "  #print(\"IM: \", IM)\n",
    "  \n",
    " \n",
    "  print(\"%15s | %.4f | %.4f | %.4f | %.4f \" % (label,  scoreR2.mean(), -1*scoreMSE.mean(), -1*scoreMAE.mean() , np.sqrt(((1-scoreR2.mean())**2) + (-1*scoreMSE.mean()) + (scoreMAE.mean()**2) )))\n",
    "print(\"--------------------------------------------------------------\")"
   ]
  },
  {
   "cell_type": "code",
   "execution_count": 39,
   "id": "a890a54c",
   "metadata": {},
   "outputs": [
    {
     "data": {
      "text/html": [
       "<div>\n",
       "<style scoped>\n",
       "    .dataframe tbody tr th:only-of-type {\n",
       "        vertical-align: middle;\n",
       "    }\n",
       "\n",
       "    .dataframe tbody tr th {\n",
       "        vertical-align: top;\n",
       "    }\n",
       "\n",
       "    .dataframe thead th {\n",
       "        text-align: right;\n",
       "    }\n",
       "</style>\n",
       "<table border=\"1\" class=\"dataframe\">\n",
       "  <thead>\n",
       "    <tr style=\"text-align: right;\">\n",
       "      <th></th>\n",
       "      <th>WD</th>\n",
       "      <th>WFS</th>\n",
       "      <th>TS</th>\n",
       "      <th>P</th>\n",
       "    </tr>\n",
       "  </thead>\n",
       "  <tbody>\n",
       "    <tr>\n",
       "      <th>0</th>\n",
       "      <td>0.8</td>\n",
       "      <td>39.33</td>\n",
       "      <td>5.00</td>\n",
       "      <td>531.22</td>\n",
       "    </tr>\n",
       "    <tr>\n",
       "      <th>1</th>\n",
       "      <td>0.8</td>\n",
       "      <td>48.33</td>\n",
       "      <td>6.66</td>\n",
       "      <td>693.84</td>\n",
       "    </tr>\n",
       "    <tr>\n",
       "      <th>2</th>\n",
       "      <td>0.8</td>\n",
       "      <td>66.83</td>\n",
       "      <td>8.34</td>\n",
       "      <td>959.70</td>\n",
       "    </tr>\n",
       "    <tr>\n",
       "      <th>3</th>\n",
       "      <td>0.8</td>\n",
       "      <td>80.00</td>\n",
       "      <td>10.00</td>\n",
       "      <td>1113.30</td>\n",
       "    </tr>\n",
       "    <tr>\n",
       "      <th>4</th>\n",
       "      <td>0.8</td>\n",
       "      <td>94.33</td>\n",
       "      <td>11.67</td>\n",
       "      <td>1277.70</td>\n",
       "    </tr>\n",
       "    <tr>\n",
       "      <th>...</th>\n",
       "      <td>...</td>\n",
       "      <td>...</td>\n",
       "      <td>...</td>\n",
       "      <td>...</td>\n",
       "    </tr>\n",
       "    <tr>\n",
       "      <th>70</th>\n",
       "      <td>1.2</td>\n",
       "      <td>44.33</td>\n",
       "      <td>3.34</td>\n",
       "      <td>1688.92</td>\n",
       "    </tr>\n",
       "    <tr>\n",
       "      <th>71</th>\n",
       "      <td>1.2</td>\n",
       "      <td>57.33</td>\n",
       "      <td>4.17</td>\n",
       "      <td>1996.29</td>\n",
       "    </tr>\n",
       "    <tr>\n",
       "      <th>72</th>\n",
       "      <td>1.2</td>\n",
       "      <td>70.00</td>\n",
       "      <td>5.01</td>\n",
       "      <td>2177.65</td>\n",
       "    </tr>\n",
       "    <tr>\n",
       "      <th>73</th>\n",
       "      <td>1.2</td>\n",
       "      <td>80.17</td>\n",
       "      <td>5.83</td>\n",
       "      <td>2528.29</td>\n",
       "    </tr>\n",
       "    <tr>\n",
       "      <th>74</th>\n",
       "      <td>1.2</td>\n",
       "      <td>89.33</td>\n",
       "      <td>6.67</td>\n",
       "      <td>2887.92</td>\n",
       "    </tr>\n",
       "  </tbody>\n",
       "</table>\n",
       "<p>75 rows × 4 columns</p>\n",
       "</div>"
      ],
      "text/plain": [
       "     WD    WFS     TS        P\n",
       "0   0.8  39.33   5.00   531.22\n",
       "1   0.8  48.33   6.66   693.84\n",
       "2   0.8  66.83   8.34   959.70\n",
       "3   0.8  80.00  10.00  1113.30\n",
       "4   0.8  94.33  11.67  1277.70\n",
       "..  ...    ...    ...      ...\n",
       "70  1.2  44.33   3.34  1688.92\n",
       "71  1.2  57.33   4.17  1996.29\n",
       "72  1.2  70.00   5.01  2177.65\n",
       "73  1.2  80.17   5.83  2528.29\n",
       "74  1.2  89.33   6.67  2887.92\n",
       "\n",
       "[75 rows x 4 columns]"
      ]
     },
     "execution_count": 39,
     "metadata": {},
     "output_type": "execute_result"
    }
   ],
   "source": [
    "x"
   ]
  },
  {
   "cell_type": "code",
   "execution_count": 36,
   "id": "8393501a",
   "metadata": {},
   "outputs": [
    {
     "data": {
      "text/html": [
       "<div>\n",
       "<style scoped>\n",
       "    .dataframe tbody tr th:only-of-type {\n",
       "        vertical-align: middle;\n",
       "    }\n",
       "\n",
       "    .dataframe tbody tr th {\n",
       "        vertical-align: top;\n",
       "    }\n",
       "\n",
       "    .dataframe thead th {\n",
       "        text-align: right;\n",
       "    }\n",
       "</style>\n",
       "<table border=\"1\" class=\"dataframe\">\n",
       "  <thead>\n",
       "    <tr style=\"text-align: right;\">\n",
       "      <th></th>\n",
       "      <th>WD</th>\n",
       "      <th>WFS</th>\n",
       "      <th>TS</th>\n",
       "      <th>P</th>\n",
       "      <th>ME</th>\n",
       "      <th>ME GP predicted</th>\n",
       "      <th>ME XGB predicted</th>\n",
       "      <th>ME MLP predicted</th>\n",
       "    </tr>\n",
       "  </thead>\n",
       "  <tbody>\n",
       "    <tr>\n",
       "      <th>0</th>\n",
       "      <td>0.8</td>\n",
       "      <td>39.33</td>\n",
       "      <td>5.00</td>\n",
       "      <td>531.22</td>\n",
       "      <td>0.396</td>\n",
       "      <td>0.449333</td>\n",
       "      <td>0.531555</td>\n",
       "      <td>0.449333</td>\n",
       "    </tr>\n",
       "    <tr>\n",
       "      <th>1</th>\n",
       "      <td>0.8</td>\n",
       "      <td>48.33</td>\n",
       "      <td>6.66</td>\n",
       "      <td>693.84</td>\n",
       "      <td>0.414</td>\n",
       "      <td>0.449333</td>\n",
       "      <td>0.531555</td>\n",
       "      <td>0.449333</td>\n",
       "    </tr>\n",
       "    <tr>\n",
       "      <th>2</th>\n",
       "      <td>0.8</td>\n",
       "      <td>66.83</td>\n",
       "      <td>8.34</td>\n",
       "      <td>959.70</td>\n",
       "      <td>0.433</td>\n",
       "      <td>0.449333</td>\n",
       "      <td>0.531555</td>\n",
       "      <td>0.449333</td>\n",
       "    </tr>\n",
       "    <tr>\n",
       "      <th>3</th>\n",
       "      <td>0.8</td>\n",
       "      <td>80.00</td>\n",
       "      <td>10.00</td>\n",
       "      <td>1113.30</td>\n",
       "      <td>0.446</td>\n",
       "      <td>0.449333</td>\n",
       "      <td>0.531555</td>\n",
       "      <td>0.449333</td>\n",
       "    </tr>\n",
       "    <tr>\n",
       "      <th>4</th>\n",
       "      <td>0.8</td>\n",
       "      <td>94.33</td>\n",
       "      <td>11.67</td>\n",
       "      <td>1277.70</td>\n",
       "      <td>0.445</td>\n",
       "      <td>0.449333</td>\n",
       "      <td>0.531555</td>\n",
       "      <td>0.449333</td>\n",
       "    </tr>\n",
       "    <tr>\n",
       "      <th>...</th>\n",
       "      <td>...</td>\n",
       "      <td>...</td>\n",
       "      <td>...</td>\n",
       "      <td>...</td>\n",
       "      <td>...</td>\n",
       "      <td>...</td>\n",
       "      <td>...</td>\n",
       "      <td>...</td>\n",
       "    </tr>\n",
       "    <tr>\n",
       "      <th>70</th>\n",
       "      <td>1.2</td>\n",
       "      <td>44.33</td>\n",
       "      <td>3.34</td>\n",
       "      <td>1688.92</td>\n",
       "      <td>0.372</td>\n",
       "      <td>0.449333</td>\n",
       "      <td>0.539592</td>\n",
       "      <td>0.449333</td>\n",
       "    </tr>\n",
       "    <tr>\n",
       "      <th>71</th>\n",
       "      <td>1.2</td>\n",
       "      <td>57.33</td>\n",
       "      <td>4.17</td>\n",
       "      <td>1996.29</td>\n",
       "      <td>0.446</td>\n",
       "      <td>0.449333</td>\n",
       "      <td>0.539592</td>\n",
       "      <td>0.449333</td>\n",
       "    </tr>\n",
       "    <tr>\n",
       "      <th>72</th>\n",
       "      <td>1.2</td>\n",
       "      <td>70.00</td>\n",
       "      <td>5.01</td>\n",
       "      <td>2177.65</td>\n",
       "      <td>0.488</td>\n",
       "      <td>0.449333</td>\n",
       "      <td>0.539592</td>\n",
       "      <td>0.449333</td>\n",
       "    </tr>\n",
       "    <tr>\n",
       "      <th>73</th>\n",
       "      <td>1.2</td>\n",
       "      <td>80.17</td>\n",
       "      <td>5.83</td>\n",
       "      <td>2528.29</td>\n",
       "      <td>0.470</td>\n",
       "      <td>0.449333</td>\n",
       "      <td>0.539592</td>\n",
       "      <td>0.449333</td>\n",
       "    </tr>\n",
       "    <tr>\n",
       "      <th>74</th>\n",
       "      <td>1.2</td>\n",
       "      <td>89.33</td>\n",
       "      <td>6.67</td>\n",
       "      <td>2887.92</td>\n",
       "      <td>0.500</td>\n",
       "      <td>0.449333</td>\n",
       "      <td>0.539592</td>\n",
       "      <td>0.449333</td>\n",
       "    </tr>\n",
       "  </tbody>\n",
       "</table>\n",
       "<p>75 rows × 8 columns</p>\n",
       "</div>"
      ],
      "text/plain": [
       "     WD    WFS     TS        P     ME  ME GP predicted  ME XGB predicted  \\\n",
       "0   0.8  39.33   5.00   531.22  0.396         0.449333          0.531555   \n",
       "1   0.8  48.33   6.66   693.84  0.414         0.449333          0.531555   \n",
       "2   0.8  66.83   8.34   959.70  0.433         0.449333          0.531555   \n",
       "3   0.8  80.00  10.00  1113.30  0.446         0.449333          0.531555   \n",
       "4   0.8  94.33  11.67  1277.70  0.445         0.449333          0.531555   \n",
       "..  ...    ...    ...      ...    ...              ...               ...   \n",
       "70  1.2  44.33   3.34  1688.92  0.372         0.449333          0.539592   \n",
       "71  1.2  57.33   4.17  1996.29  0.446         0.449333          0.539592   \n",
       "72  1.2  70.00   5.01  2177.65  0.488         0.449333          0.539592   \n",
       "73  1.2  80.17   5.83  2528.29  0.470         0.449333          0.539592   \n",
       "74  1.2  89.33   6.67  2887.92  0.500         0.449333          0.539592   \n",
       "\n",
       "    ME MLP predicted  \n",
       "0           0.449333  \n",
       "1           0.449333  \n",
       "2           0.449333  \n",
       "3           0.449333  \n",
       "4           0.449333  \n",
       "..               ...  \n",
       "70          0.449333  \n",
       "71          0.449333  \n",
       "72          0.449333  \n",
       "73          0.449333  \n",
       "74          0.449333  \n",
       "\n",
       "[75 rows x 8 columns]"
      ]
     },
     "execution_count": 36,
     "metadata": {},
     "output_type": "execute_result"
    }
   ],
   "source": [
    "# Prediction of ME\n",
    "\n",
    "y_ME_gp= gp.predict(x)\n",
    "df['ME GP predicted']=y_ME_gp\n",
    "\n",
    "y_ME_xgb= xgb.predict(x)\n",
    "df['ME XGB predicted']=y_ME_xgb\n",
    "\n",
    "y_ME_mlp= gp.predict(x)\n",
    "df['ME MLP predicted']=y_ME_mlp\n",
    "\n",
    "df"
   ]
  },
  {
   "cell_type": "code",
   "execution_count": 37,
   "id": "6b06a9e3",
   "metadata": {},
   "outputs": [],
   "source": [
    "df.to_csv('ME_pred.csv')"
   ]
  },
  {
   "cell_type": "markdown",
   "id": "69003ae0",
   "metadata": {},
   "source": [
    "### Conclusion\n",
    "- GP algorithm provides more accurate results than XGB and ANN."
   ]
  }
 ],
 "metadata": {
  "kernelspec": {
   "display_name": "Python 3 (ipykernel)",
   "language": "python",
   "name": "python3"
  },
  "language_info": {
   "codemirror_mode": {
    "name": "ipython",
    "version": 3
   },
   "file_extension": ".py",
   "mimetype": "text/x-python",
   "name": "python",
   "nbconvert_exporter": "python",
   "pygments_lexer": "ipython3",
   "version": "3.9.12"
  }
 },
 "nbformat": 4,
 "nbformat_minor": 5
}
