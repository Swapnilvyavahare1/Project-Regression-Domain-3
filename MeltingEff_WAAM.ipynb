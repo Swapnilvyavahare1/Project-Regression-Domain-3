{
 "cells": [
  {
   "cell_type": "markdown",
   "metadata": {
    "colab_type": "text",
    "id": "view-in-github"
   },
   "source": [
    "<a href=\"https://colab.research.google.com/github/GermanOmar/Melting/blob/master/MeltingEff_WAAM.ipynb\" target=\"_parent\"><img src=\"https://colab.research.google.com/assets/colab-badge.svg\" alt=\"Open In Colab\"/></a>"
   ]
  },
  {
   "cell_type": "markdown",
   "metadata": {
    "id": "rqI9VDT0RdWk"
   },
   "source": [
    "# Melting efficiency evaluation in wire arc additive manufacturing: A machine learning approach"
   ]
  },
  {
   "cell_type": "markdown",
   "metadata": {
    "id": "2OOvQQeg7d0g"
   },
   "source": [
    "<a href=\"https://ibb.co/5Rvr5t7\"><img src=\"https://i.ibb.co/kS04hkd/Fig1-4.png\" WIDTH=\"500\" HEIGHT=\"300\"  border=\"0\"></a>"
   ]
  },
  {
   "cell_type": "markdown",
   "metadata": {
    "id": "3-T6Z2bdRvSm"
   },
   "source": [
    " Libraries"
   ]
  },
  {
   "cell_type": "code",
   "execution_count": 1,
   "metadata": {
    "id": "ltCb1Iw6Raez"
   },
   "outputs": [],
   "source": [
    "import numpy as np\n",
    "import pandas as pd\n",
    "from matplotlib import pyplot as plt\n",
    "from sklearn import preprocessing\n",
    "import warnings\n",
    "warnings.filterwarnings(\"ignore\")"
   ]
  },
  {
   "cell_type": "markdown",
   "metadata": {
    "id": "SM_-phITCP5Q"
   },
   "source": [
    "Randomized search"
   ]
  },
  {
   "cell_type": "code",
   "execution_count": 2,
   "metadata": {
    "id": "JXtz8RPXCOUJ"
   },
   "outputs": [],
   "source": [
    "from sklearn.model_selection import RandomizedSearchCV\n",
    "from sklearn.model_selection import RepeatedKFold\n",
    "from sklearn.preprocessing import StandardScaler"
   ]
  },
  {
   "cell_type": "markdown",
   "metadata": {
    "id": "1Mbfb5c9yu5p"
   },
   "source": [
    " Upload database:"
   ]
  },
  {
   "cell_type": "code",
   "execution_count": 3,
   "metadata": {
    "colab": {
     "base_uri": "https://localhost:8080/"
    },
    "id": "_V3jfdhPsEKW",
    "outputId": "d56e829f-6519-45a9-be93-e8f7146101b2"
   },
   "outputs": [
    {
     "name": "stderr",
     "output_type": "stream",
     "text": [
      "fatal: destination path 'Melting' already exists and is not an empty directory.\n"
     ]
    }
   ],
   "source": [
    "!git clone https://github.com/GermanOmar/Melting"
   ]
  },
  {
   "cell_type": "code",
   "execution_count": 4,
   "metadata": {
    "colab": {
     "base_uri": "https://localhost:8080/",
     "height": 284
    },
    "id": "Yx-ovik8xxJx",
    "outputId": "23bed3e6-8b76-4fa9-ef53-417a8fa17250"
   },
   "outputs": [
    {
     "data": {
      "text/html": [
       "<div>\n",
       "<style scoped>\n",
       "    .dataframe tbody tr th:only-of-type {\n",
       "        vertical-align: middle;\n",
       "    }\n",
       "\n",
       "    .dataframe tbody tr th {\n",
       "        vertical-align: top;\n",
       "    }\n",
       "\n",
       "    .dataframe thead th {\n",
       "        text-align: right;\n",
       "    }\n",
       "</style>\n",
       "<table border=\"1\" class=\"dataframe\">\n",
       "  <thead>\n",
       "    <tr style=\"text-align: right;\">\n",
       "      <th></th>\n",
       "      <th>WD</th>\n",
       "      <th>WFS</th>\n",
       "      <th>TS</th>\n",
       "      <th>P</th>\n",
       "      <th>ME</th>\n",
       "    </tr>\n",
       "  </thead>\n",
       "  <tbody>\n",
       "    <tr>\n",
       "      <th>count</th>\n",
       "      <td>75.000000</td>\n",
       "      <td>75.000000</td>\n",
       "      <td>75.000000</td>\n",
       "      <td>75.000000</td>\n",
       "      <td>75.000000</td>\n",
       "    </tr>\n",
       "    <tr>\n",
       "      <th>mean</th>\n",
       "      <td>0.954667</td>\n",
       "      <td>95.451333</td>\n",
       "      <td>8.326533</td>\n",
       "      <td>1819.171733</td>\n",
       "      <td>0.445693</td>\n",
       "    </tr>\n",
       "    <tr>\n",
       "      <th>std</th>\n",
       "      <td>0.172653</td>\n",
       "      <td>53.012550</td>\n",
       "      <td>5.220140</td>\n",
       "      <td>757.431591</td>\n",
       "      <td>0.055220</td>\n",
       "    </tr>\n",
       "    <tr>\n",
       "      <th>min</th>\n",
       "      <td>0.800000</td>\n",
       "      <td>28.000000</td>\n",
       "      <td>1.660000</td>\n",
       "      <td>531.220000</td>\n",
       "      <td>0.307000</td>\n",
       "    </tr>\n",
       "    <tr>\n",
       "      <th>25%</th>\n",
       "      <td>0.800000</td>\n",
       "      <td>54.585000</td>\n",
       "      <td>4.450000</td>\n",
       "      <td>1171.550000</td>\n",
       "      <td>0.411000</td>\n",
       "    </tr>\n",
       "    <tr>\n",
       "      <th>50%</th>\n",
       "      <td>0.800000</td>\n",
       "      <td>80.330000</td>\n",
       "      <td>6.670000</td>\n",
       "      <td>1798.200000</td>\n",
       "      <td>0.445000</td>\n",
       "    </tr>\n",
       "    <tr>\n",
       "      <th>75%</th>\n",
       "      <td>1.200000</td>\n",
       "      <td>123.250000</td>\n",
       "      <td>10.980000</td>\n",
       "      <td>2435.315000</td>\n",
       "      <td>0.491500</td>\n",
       "    </tr>\n",
       "    <tr>\n",
       "      <th>max</th>\n",
       "      <td>1.200000</td>\n",
       "      <td>222.500000</td>\n",
       "      <td>25.000000</td>\n",
       "      <td>3266.550000</td>\n",
       "      <td>0.553000</td>\n",
       "    </tr>\n",
       "  </tbody>\n",
       "</table>\n",
       "</div>"
      ],
      "text/plain": [
       "              WD         WFS         TS            P         ME\n",
       "count  75.000000   75.000000  75.000000    75.000000  75.000000\n",
       "mean    0.954667   95.451333   8.326533  1819.171733   0.445693\n",
       "std     0.172653   53.012550   5.220140   757.431591   0.055220\n",
       "min     0.800000   28.000000   1.660000   531.220000   0.307000\n",
       "25%     0.800000   54.585000   4.450000  1171.550000   0.411000\n",
       "50%     0.800000   80.330000   6.670000  1798.200000   0.445000\n",
       "75%     1.200000  123.250000  10.980000  2435.315000   0.491500\n",
       "max     1.200000  222.500000  25.000000  3266.550000   0.553000"
      ]
     },
     "execution_count": 4,
     "metadata": {},
     "output_type": "execute_result"
    }
   ],
   "source": [
    "#Experimental data\n",
    "data = pd.read_table('datas.txt') \n",
    "data.describe()\n"
   ]
  },
  {
   "cell_type": "markdown",
   "metadata": {
    "id": "lFVoj9tfSQJJ"
   },
   "source": [
    "\n",
    "Setting inputs - output:"
   ]
  },
  {
   "cell_type": "code",
   "execution_count": 5,
   "metadata": {
    "colab": {
     "base_uri": "https://localhost:8080/",
     "height": 418
    },
    "id": "j4RPoTbW_VVs",
    "outputId": "3e2356a4-2f91-43f1-e06f-ee0224681fc3"
   },
   "outputs": [
    {
     "data": {
      "image/png": "[encoded data removed]",
      "text/plain": [
       "<Figure size 1080x576 with 5 Axes>"
      ]
     },
     "metadata": {},
     "output_type": "display_data"
    }
   ],
   "source": [
    "fields = ['WD', 'WFS','TS','P', 'ME',]\n",
    "import seaborn as sns\n",
    "sns.set()\n",
    "\n",
    "fig = plt.figure()\n",
    "fig.set_size_inches((15,8))\n",
    "for i, field in enumerate(fields):\n",
    "  plt.subplot(3, 3, i + 1)\n",
    "  plt.plot(data[field], data['ME'], 'b*')\n",
    "  plt.xlabel(field)\n",
    "  plt.ylabel('ME')\n",
    "\n",
    "plt.tight_layout()\n",
    "\n",
    "X=data[['WD', 'WFS','TS','P']]\n",
    "Y=data['ME'][:,None]\n",
    "\n",
    "#fig.tight_layout()"
   ]
  },
  {
   "cell_type": "code",
   "execution_count": 6,
   "metadata": {
    "colab": {
     "base_uri": "https://localhost:8080/",
     "height": 730
    },
    "id": "SVvdbKrdZIj5",
    "outputId": "e5458d9b-2f82-4005-bcad-44123289e9f3"
   },
   "outputs": [
    {
     "data": {
      "image/png": "[encoded data removed]",
      "text/plain": [
       "<Figure size 864x864 with 25 Axes>"
      ]
     },
     "metadata": {},
     "output_type": "display_data"
    }
   ],
   "source": [
    "from pandas.plotting import scatter_matrix\n",
    "#DISPLAY MATRIX - identificar correlacion entre variables\n",
    "import seaborn as sns\n",
    "sns.set()\n",
    "\n",
    "plt.rcParams[\"axes.grid\"] = False\n",
    "\n",
    "#pd.tools.plotting.scatter_matrix(df, alpha=0.2, c='red', hist_kwds={'color':['burlywood']})\n",
    "\n",
    "#scatter_matrix(data, alpha=0.2, marker='o', figsize = (12,12), color = 'blue')\n",
    "scatter_matrix(data, alpha=0.9,marker='s', figsize = (12,12),  c='blue', hist_kwds={'color':['blue']})\n",
    "\n",
    "warnings.filterwarnings(\"ignore\")"
   ]
  },
  {
   "cell_type": "markdown",
   "metadata": {
    "id": "7o8zckSzFI7O"
   },
   "source": [
    "# Melting efficiency prediction"
   ]
  },
  {
   "cell_type": "markdown",
   "metadata": {
    "id": "Q6pAiesfTDDU"
   },
   "source": [
    " Split data"
   ]
  },
  {
   "cell_type": "code",
   "execution_count": 7,
   "metadata": {
    "colab": {
     "base_uri": "https://localhost:8080/"
    },
    "id": "HI3IlTeHTF_Z",
    "outputId": "00e96980-90c9-47e2-e05d-c974210445c9"
   },
   "outputs": [
    {
     "name": "stdout",
     "output_type": "stream",
     "text": [
      "training samples: 60  test samples: 15\n"
     ]
    }
   ],
   "source": [
    "from sklearn.model_selection import train_test_split\n",
    "\n",
    "X_train, X_test, y_train, y_test = train_test_split(X, Y, test_size=0.2, random_state=1234)\n",
    "print('training samples:', X_train.shape[0],  ' test samples:', X_test.shape[0])"
   ]
  },
  {
   "cell_type": "code",
   "execution_count": 8,
   "metadata": {
    "id": "N9C38QmsAXm-"
   },
   "outputs": [],
   "source": [
    "from sklearn.preprocessing import StandardScaler\n",
    "\n",
    "scaler = StandardScaler()\n",
    "X_train = scaler.fit_transform(X_train)\n",
    "X_test = scaler.fit_transform(X_test)\n",
    "\n",
    "#y_train = scaler.fit_transform(y_train)\n",
    "#y_test = scaler.transform(y_test)\n"
   ]
  },
  {
   "cell_type": "markdown",
   "metadata": {
    "id": "7Zk7lMoGhdFO"
   },
   "source": [
    "#Results:"
   ]
  },
  {
   "cell_type": "markdown",
   "metadata": {
    "id": "IVHzaa4EkSPe"
   },
   "source": [
    "# GPs"
   ]
  },
  {
   "cell_type": "code",
   "execution_count": 9,
   "metadata": {
    "colab": {
     "base_uri": "https://localhost:8080/",
     "height": 629
    },
    "id": "abeE5km2aix5",
    "outputId": "3b8cc958-1cc9-4a52-b344-d1757f7db8f6"
   },
   "outputs": [
    {
     "name": "stdout",
     "output_type": "stream",
     "text": [
      "Gaussian Process\n",
      "MSE train: 9.090937173895851e-08\n",
      "MSE test: 0.0004911397700468625\n",
      "MSE train < MSE test? True\n",
      "\n",
      "R2_train:  0.9999706707668521\n",
      "R2_test:  0.8139290037270219\n",
      "\n",
      "R2:  0.8139290037270219\n",
      "RMSE:  0.02216167344870108\n",
      "MAE:  0.015605662649962304\n",
      "IM:  0.18803481627297086\n",
      "\n"
     ]
    },
    {
     "data": {
      "image/png": "[encoded data removed]",
      "text/plain": [
       "<Figure size 648x432 with 1 Axes>"
      ]
     },
     "metadata": {},
     "output_type": "display_data"
    }
   ],
   "source": [
    "from sklearn.gaussian_process import GaussianProcessRegressor as GPR\n",
    "from sklearn.gaussian_process.kernels import RBF, ConstantKernel as C\n",
    "kernel = C(1.0, (1e-3, 1e3)) * RBF(10, (1e-2, 1e2))\n",
    " \n",
    "GP=GPR(alpha=0.001, copy_X_train=True,\n",
    "                         kernel=1**2 * RBF(length_scale=10),\n",
    "                         n_restarts_optimizer=40, normalize_y=True,\n",
    "                         optimizer='fmin_l_bfgs_b', random_state=1234)\n",
    " \n",
    "#Training\n",
    "GP.fit(X_train,y_train)\n",
    " \n",
    "#Testing\n",
    "y_star_train = GP.predict(X_train)\n",
    "y_pred = GP.predict(X_test)\n",
    " \n",
    "#Plots\n",
    "sns.set_theme(style=\"whitegrid\")\n",
    "plt.rcParams[\"axes.grid\"] = False\n",
    "fig = plt.figure()\n",
    "fig.set_size_inches((9,6))\n",
    "\n",
    "import matplotlib.pyplot as plt\n",
    "plt.rcParams.update({'font.size': 30})\n",
    "\n",
    "plt.plot(y_train, y_star_train, 'bx', label = 'Train')\n",
    "plt.plot([y_star_train.min(), y_star_train.max()], [y_star_train.min(), y_star_train.max()], 'k--')\n",
    "plt.plot(y_test, y_pred, 'ro', label = 'Test')\n",
    "plt.plot([y_pred.min(), y_pred.max()], [y_pred.min(), y_pred.max()], 'k--')\n",
    "plt.legend()\n",
    "plt.ylabel('Predicted melting efficiency')\n",
    "plt.xlabel('Measured melting efficiency')\n",
    "plt.title(\"Gaussian process regressor\")\n",
    " \n",
    "from sklearn.metrics import mean_squared_error\n",
    "MSE_test = mean_squared_error(y_test, y_pred)\n",
    "MSE_train = mean_squared_error(y_train, y_star_train)\n",
    " \n",
    "print(\"Gaussian Process\")\n",
    "print('MSE train:', MSE_train)\n",
    "print('MSE test:', MSE_test)\n",
    "print(\"MSE train < MSE test?\", MSE_train < MSE_test)\n",
    "print()\n",
    "from sklearn.metrics import r2_score\n",
    "R2_train=r2_score(y_train, y_star_train)\n",
    "print('R2_train: ',R2_train)\n",
    "R2_test=r2_score(y_test, y_pred)\n",
    "print('R2_test: ',R2_test)\n",
    "print()\n",
    "\"\"\" \n",
    "RE=100 * abs(y_test - y_pred) / y_test\n",
    "print('Relative error (%): ',RE)\n",
    "\"\"\"\n",
    "from sklearn.metrics import r2_score\n",
    "from sklearn.metrics import mean_absolute_error as MAE \n",
    "#METRICS: R2, RMSE, MAE\n",
    "R2=r2_score(y_test, y_pred)\n",
    "print('R2: ',R2)\n",
    "RMSE = np.sqrt(MSE_test)\n",
    "print(\"RMSE: \", RMSE)\n",
    "MAE = MAE(y_test, y_pred)\n",
    "print(\"MAE: \", MAE)\n",
    "IM=np.sqrt(((1-R2)**2) + (RMSE**2) + (MAE**2) )\n",
    "print(\"IM: \", IM)\n",
    "print()"
   ]
  },
  {
   "cell_type": "code",
   "execution_count": 10,
   "metadata": {
    "id": "WMwDPZgDnsSf"
   },
   "outputs": [],
   "source": [
    "# initialize model and define the space of the hyperparameters to\n",
    "# perform the grid-search over\n",
    "model = GP\n",
    "n_restarts_optimizer = [5, 10, 20, 40]\n",
    "alpha = [0.001, 0.01, 0.1, 1]\n",
    "\n",
    "\n",
    "grid = dict(n_restarts_optimizer=n_restarts_optimizer, alpha=alpha )"
   ]
  },
  {
   "cell_type": "code",
   "execution_count": 11,
   "metadata": {
    "colab": {
     "base_uri": "https://localhost:8080/"
    },
    "id": "Q6R3o1gzqEQZ",
    "outputId": "a8df6d61-d078-4520-cf8a-36b20acbd5c1",
    "scrolled": true
   },
   "outputs": [
    {
     "name": "stdout",
     "output_type": "stream",
     "text": [
      "[INFO] grid searching over the hyperparameters...\n",
      "[INFO] evaluating...\n",
      "R2: 0.93\n",
      "GaussianProcessRegressor(alpha=0.1, kernel=1**2 * RBF(length_scale=10),\n",
      "                         n_restarts_optimizer=5, normalize_y=True,\n",
      "                         random_state=1234)\n"
     ]
    }
   ],
   "source": [
    "# initialize a cross-validation fold and perform a randomized-search\n",
    "# to tune the hyperparameters\n",
    "print(\"[INFO] grid searching over the hyperparameters...\")\n",
    "cvFold = RepeatedKFold(n_splits=10, n_repeats=3, random_state=1234)\n",
    "randomSearch = RandomizedSearchCV(estimator=model, n_jobs=-1,\n",
    "\tcv=cvFold, param_distributions=grid,\n",
    "\tscoring=\"neg_mean_squared_error\")\n",
    "searchResults = randomSearch.fit(X_train, y_train)\n",
    "# extract the best model and evaluate it\n",
    "print(\"[INFO] evaluating...\")\n",
    "bestModel = searchResults.best_estimator_\n",
    "print(\"R2: {:.2f}\".format(bestModel.score(X_test, y_test)))\n",
    "print(bestModel)"
   ]
  },
  {
   "cell_type": "code",
   "execution_count": null,
   "metadata": {},
   "outputs": [],
   "source": [
    "y_ME_GP= GP.predict(x)\n",
    "df['ME GP predicted']=y_ME_GP"
   ]
  },
  {
   "cell_type": "code",
   "execution_count": null,
   "metadata": {},
   "outputs": [],
   "source": [
    "df.to_csv('ME_pred.csv')"
   ]
  },
  {
   "cell_type": "markdown",
   "metadata": {
    "id": "hkMQ_W07zri6"
   },
   "source": [
    "# XGB"
   ]
  },
  {
   "cell_type": "code",
   "execution_count": 12,
   "metadata": {
    "id": "rLTTuAFyzJeP"
   },
   "outputs": [
    {
     "ename": "XGBoostError",
     "evalue": "[13:45:46] c:\\users\\administrator\\workspace\\xgboost-win64_release_1.6.0\\src\\c_api\\c_api_utils.h:159: Invalid missing value: null",
     "output_type": "error",
     "traceback": [
      "\u001b[1;31m---------------------------------------------------------------------------\u001b[0m",
      "\u001b[1;31mXGBoostError\u001b[0m                              Traceback (most recent call last)",
      "Input \u001b[1;32mIn [12]\u001b[0m, in \u001b[0;36m<cell line: 12>\u001b[1;34m()\u001b[0m\n\u001b[0;32m      4\u001b[0m xgbr \u001b[38;5;241m=\u001b[39m xgb\u001b[38;5;241m.\u001b[39mXGBRegressor(base_score\u001b[38;5;241m=\u001b[39m\u001b[38;5;241m0.5\u001b[39m, booster\u001b[38;5;241m=\u001b[39m\u001b[38;5;124m'\u001b[39m\u001b[38;5;124mgbtree\u001b[39m\u001b[38;5;124m'\u001b[39m, colsample_bylevel\u001b[38;5;241m=\u001b[39m\u001b[38;5;241m1\u001b[39m,\n\u001b[0;32m      5\u001b[0m              colsample_bynode\u001b[38;5;241m=\u001b[39m\u001b[38;5;241m1\u001b[39m, colsample_bytree\u001b[38;5;241m=\u001b[39m\u001b[38;5;241m1\u001b[39m, gamma\u001b[38;5;241m=\u001b[39m\u001b[38;5;241m0\u001b[39m,\n\u001b[0;32m      6\u001b[0m              importance_type\u001b[38;5;241m=\u001b[39m\u001b[38;5;124m'\u001b[39m\u001b[38;5;124mgain\u001b[39m\u001b[38;5;124m'\u001b[39m, learning_rate\u001b[38;5;241m=\u001b[39m\u001b[38;5;241m0.1\u001b[39m, max_delta_step\u001b[38;5;241m=\u001b[39m\u001b[38;5;241m0\u001b[39m,\n\u001b[1;32m   (...)\u001b[0m\n\u001b[0;32m      9\u001b[0m              reg_alpha\u001b[38;5;241m=\u001b[39m\u001b[38;5;241m0\u001b[39m, reg_lambda\u001b[38;5;241m=\u001b[39m\u001b[38;5;241m0.1\u001b[39m, scale_pos_weight\u001b[38;5;241m=\u001b[39m\u001b[38;5;241m1\u001b[39m, seed\u001b[38;5;241m=\u001b[39m\u001b[38;5;28;01mNone\u001b[39;00m,\n\u001b[0;32m     10\u001b[0m              silent\u001b[38;5;241m=\u001b[39m\u001b[38;5;28;01mNone\u001b[39;00m, subsample\u001b[38;5;241m=\u001b[39m\u001b[38;5;241m1\u001b[39m, verbosity\u001b[38;5;241m=\u001b[39m\u001b[38;5;241m0\u001b[39m)\n\u001b[0;32m     11\u001b[0m xgbr\u001b[38;5;241m.\u001b[39mfit(X_train, y_train)\n\u001b[1;32m---> 12\u001b[0m y_pred \u001b[38;5;241m=\u001b[39m \u001b[43mxgbr\u001b[49m\u001b[38;5;241;43m.\u001b[39;49m\u001b[43mpredict\u001b[49m\u001b[43m(\u001b[49m\u001b[43mX_test\u001b[49m\u001b[43m)\u001b[49m\n",
      "File \u001b[1;32m~\\AppData\\Roaming\\Python\\Python39\\site-packages\\xgboost\\sklearn.py:1049\u001b[0m, in \u001b[0;36mXGBModel.predict\u001b[1;34m(self, X, output_margin, ntree_limit, validate_features, base_margin, iteration_range)\u001b[0m\n\u001b[0;32m   1047\u001b[0m \u001b[38;5;28;01mif\u001b[39;00m \u001b[38;5;28mself\u001b[39m\u001b[38;5;241m.\u001b[39m_can_use_inplace_predict():\n\u001b[0;32m   1048\u001b[0m     \u001b[38;5;28;01mtry\u001b[39;00m:\n\u001b[1;32m-> 1049\u001b[0m         predts \u001b[38;5;241m=\u001b[39m \u001b[38;5;28;43mself\u001b[39;49m\u001b[38;5;241;43m.\u001b[39;49m\u001b[43mget_booster\u001b[49m\u001b[43m(\u001b[49m\u001b[43m)\u001b[49m\u001b[38;5;241;43m.\u001b[39;49m\u001b[43minplace_predict\u001b[49m\u001b[43m(\u001b[49m\n\u001b[0;32m   1050\u001b[0m \u001b[43m            \u001b[49m\u001b[43mdata\u001b[49m\u001b[38;5;241;43m=\u001b[39;49m\u001b[43mX\u001b[49m\u001b[43m,\u001b[49m\n\u001b[0;32m   1051\u001b[0m \u001b[43m            \u001b[49m\u001b[43miteration_range\u001b[49m\u001b[38;5;241;43m=\u001b[39;49m\u001b[43miteration_range\u001b[49m\u001b[43m,\u001b[49m\n\u001b[0;32m   1052\u001b[0m \u001b[43m            \u001b[49m\u001b[43mpredict_type\u001b[49m\u001b[38;5;241;43m=\u001b[39;49m\u001b[38;5;124;43m\"\u001b[39;49m\u001b[38;5;124;43mmargin\u001b[39;49m\u001b[38;5;124;43m\"\u001b[39;49m\u001b[43m \u001b[49m\u001b[38;5;28;43;01mif\u001b[39;49;00m\u001b[43m \u001b[49m\u001b[43moutput_margin\u001b[49m\u001b[43m \u001b[49m\u001b[38;5;28;43;01melse\u001b[39;49;00m\u001b[43m \u001b[49m\u001b[38;5;124;43m\"\u001b[39;49m\u001b[38;5;124;43mvalue\u001b[39;49m\u001b[38;5;124;43m\"\u001b[39;49m\u001b[43m,\u001b[49m\n\u001b[0;32m   1053\u001b[0m \u001b[43m            \u001b[49m\u001b[43mmissing\u001b[49m\u001b[38;5;241;43m=\u001b[39;49m\u001b[38;5;28;43mself\u001b[39;49m\u001b[38;5;241;43m.\u001b[39;49m\u001b[43mmissing\u001b[49m\u001b[43m,\u001b[49m\n\u001b[0;32m   1054\u001b[0m \u001b[43m            \u001b[49m\u001b[43mbase_margin\u001b[49m\u001b[38;5;241;43m=\u001b[39;49m\u001b[43mbase_margin\u001b[49m\u001b[43m,\u001b[49m\n\u001b[0;32m   1055\u001b[0m \u001b[43m            \u001b[49m\u001b[43mvalidate_features\u001b[49m\u001b[38;5;241;43m=\u001b[39;49m\u001b[43mvalidate_features\u001b[49m\u001b[43m,\u001b[49m\n\u001b[0;32m   1056\u001b[0m \u001b[43m        \u001b[49m\u001b[43m)\u001b[49m\n\u001b[0;32m   1057\u001b[0m         \u001b[38;5;28;01mif\u001b[39;00m _is_cupy_array(predts):\n\u001b[0;32m   1058\u001b[0m             \u001b[38;5;28;01mimport\u001b[39;00m \u001b[38;5;21;01mcupy\u001b[39;00m     \u001b[38;5;66;03m# pylint: disable=import-error\u001b[39;00m\n",
      "File \u001b[1;32m~\\AppData\\Roaming\\Python\\Python39\\site-packages\\xgboost\\core.py:2147\u001b[0m, in \u001b[0;36mBooster.inplace_predict\u001b[1;34m(self, data, iteration_range, predict_type, missing, validate_features, base_margin, strict_shape)\u001b[0m\n\u001b[0;32m   2145\u001b[0m     \u001b[38;5;28;01mfrom\u001b[39;00m \u001b[38;5;21;01m.\u001b[39;00m\u001b[38;5;21;01mdata\u001b[39;00m \u001b[38;5;28;01mimport\u001b[39;00m _ensure_np_dtype\n\u001b[0;32m   2146\u001b[0m     data, _ \u001b[38;5;241m=\u001b[39m _ensure_np_dtype(data, data\u001b[38;5;241m.\u001b[39mdtype)\n\u001b[1;32m-> 2147\u001b[0m     \u001b[43m_check_call\u001b[49m\u001b[43m(\u001b[49m\n\u001b[0;32m   2148\u001b[0m \u001b[43m        \u001b[49m\u001b[43m_LIB\u001b[49m\u001b[38;5;241;43m.\u001b[39;49m\u001b[43mXGBoosterPredictFromDense\u001b[49m\u001b[43m(\u001b[49m\n\u001b[0;32m   2149\u001b[0m \u001b[43m            \u001b[49m\u001b[38;5;28;43mself\u001b[39;49m\u001b[38;5;241;43m.\u001b[39;49m\u001b[43mhandle\u001b[49m\u001b[43m,\u001b[49m\n\u001b[0;32m   2150\u001b[0m \u001b[43m            \u001b[49m\u001b[43m_array_interface\u001b[49m\u001b[43m(\u001b[49m\u001b[43mdata\u001b[49m\u001b[43m)\u001b[49m\u001b[43m,\u001b[49m\n\u001b[0;32m   2151\u001b[0m \u001b[43m            \u001b[49m\u001b[43mfrom_pystr_to_cstr\u001b[49m\u001b[43m(\u001b[49m\u001b[43mjson\u001b[49m\u001b[38;5;241;43m.\u001b[39;49m\u001b[43mdumps\u001b[49m\u001b[43m(\u001b[49m\u001b[43margs\u001b[49m\u001b[43m)\u001b[49m\u001b[43m)\u001b[49m\u001b[43m,\u001b[49m\n\u001b[0;32m   2152\u001b[0m \u001b[43m            \u001b[49m\u001b[43mp_handle\u001b[49m\u001b[43m,\u001b[49m\n\u001b[0;32m   2153\u001b[0m \u001b[43m            \u001b[49m\u001b[43mctypes\u001b[49m\u001b[38;5;241;43m.\u001b[39;49m\u001b[43mbyref\u001b[49m\u001b[43m(\u001b[49m\u001b[43mshape\u001b[49m\u001b[43m)\u001b[49m\u001b[43m,\u001b[49m\n\u001b[0;32m   2154\u001b[0m \u001b[43m            \u001b[49m\u001b[43mctypes\u001b[49m\u001b[38;5;241;43m.\u001b[39;49m\u001b[43mbyref\u001b[49m\u001b[43m(\u001b[49m\u001b[43mdims\u001b[49m\u001b[43m)\u001b[49m\u001b[43m,\u001b[49m\n\u001b[0;32m   2155\u001b[0m \u001b[43m            \u001b[49m\u001b[43mctypes\u001b[49m\u001b[38;5;241;43m.\u001b[39;49m\u001b[43mbyref\u001b[49m\u001b[43m(\u001b[49m\u001b[43mpreds\u001b[49m\u001b[43m)\u001b[49m\u001b[43m,\u001b[49m\n\u001b[0;32m   2156\u001b[0m \u001b[43m        \u001b[49m\u001b[43m)\u001b[49m\n\u001b[0;32m   2157\u001b[0m \u001b[43m    \u001b[49m\u001b[43m)\u001b[49m\n\u001b[0;32m   2158\u001b[0m     \u001b[38;5;28;01mreturn\u001b[39;00m _prediction_output(shape, dims, preds, \u001b[38;5;28;01mFalse\u001b[39;00m)\n\u001b[0;32m   2159\u001b[0m \u001b[38;5;28;01mif\u001b[39;00m \u001b[38;5;28misinstance\u001b[39m(data, scipy\u001b[38;5;241m.\u001b[39msparse\u001b[38;5;241m.\u001b[39mcsr_matrix):\n",
      "File \u001b[1;32m~\\AppData\\Roaming\\Python\\Python39\\site-packages\\xgboost\\core.py:246\u001b[0m, in \u001b[0;36m_check_call\u001b[1;34m(ret)\u001b[0m\n\u001b[0;32m    235\u001b[0m \u001b[38;5;124;03m\"\"\"Check the return value of C API call\u001b[39;00m\n\u001b[0;32m    236\u001b[0m \n\u001b[0;32m    237\u001b[0m \u001b[38;5;124;03mThis function will raise exception when error occurs.\u001b[39;00m\n\u001b[1;32m   (...)\u001b[0m\n\u001b[0;32m    243\u001b[0m \u001b[38;5;124;03m    return value from API calls\u001b[39;00m\n\u001b[0;32m    244\u001b[0m \u001b[38;5;124;03m\"\"\"\u001b[39;00m\n\u001b[0;32m    245\u001b[0m \u001b[38;5;28;01mif\u001b[39;00m ret \u001b[38;5;241m!=\u001b[39m \u001b[38;5;241m0\u001b[39m:\n\u001b[1;32m--> 246\u001b[0m     \u001b[38;5;28;01mraise\u001b[39;00m XGBoostError(py_str(_LIB\u001b[38;5;241m.\u001b[39mXGBGetLastError()))\n",
      "\u001b[1;31mXGBoostError\u001b[0m: [13:45:46] c:\\users\\administrator\\workspace\\xgboost-win64_release_1.6.0\\src\\c_api\\c_api_utils.h:159: Invalid missing value: null"
     ]
    }
   ],
   "source": [
    "import pickle\n",
    "import xgboost as xgb\n",
    "\n",
    "xgbr = xgb.XGBRegressor(base_score=0.5, booster='gbtree', colsample_bylevel=1,\n",
    "             colsample_bynode=1, colsample_bytree=1, gamma=0,\n",
    "             importance_type='gain', learning_rate=0.1, max_delta_step=0,\n",
    "             max_depth=10, min_child_weight=1, missing=None, n_estimators=1000,\n",
    "             n_jobs=1, nthread=None, objective='reg:linear', random_state=1234,\n",
    "             reg_alpha=0, reg_lambda=0.1, scale_pos_weight=1, seed=None,\n",
    "             silent=None, subsample=1, verbosity=0)\n",
    "xgbr.fit(X_train, y_train)\n",
    "y_pred = xgbr.predict(X_test)"
   ]
  },
  {
   "cell_type": "code",
   "execution_count": null,
   "metadata": {
    "colab": {
     "base_uri": "https://localhost:8080/"
    },
    "id": "saBkb2to1tVK",
    "outputId": "71bf6b7c-7999-4907-f361-92fd4e6ea584"
   },
   "outputs": [],
   "source": [
    "score = xgbr.score(X_train, y_train)  \n",
    "print(\"Training score: \", score)"
   ]
  },
  {
   "cell_type": "code",
   "execution_count": null,
   "metadata": {
    "colab": {
     "base_uri": "https://localhost:8080/",
     "height": 562
    },
    "id": "P-auJlXw2D8o",
    "outputId": "6f61802a-db3d-4942-f0bb-f3b322d90174"
   },
   "outputs": [],
   "source": [
    "print(\"-XGBRegressor -\")\n",
    "print(\"------------------\")\n",
    "\n",
    "#EVAL\n",
    "from sklearn.metrics import mean_squared_error as MSE\n",
    "MSE_test = MSE(y_test, y_pred)\n",
    "\n",
    "#Plots\n",
    "sns.set_theme(style=\"whitegrid\")\n",
    "plt.rcParams[\"axes.grid\"] = False\n",
    "fig = plt.figure()\n",
    "fig.set_size_inches((9,6))\n",
    "import matplotlib.pyplot as plt\n",
    "plt.rcParams.update({'font.size': 30})\n",
    "\n",
    "plt.plot(y_train, y_star_train, 'bx', label = 'Train')\n",
    "plt.plot([y_star_train.min(), y_star_train.max()], [y_star_train.min(), y_star_train.max()], 'k--')\n",
    "plt.plot(y_test, y_pred, 'ro', label = 'Test')\n",
    "plt.plot([y_pred.min(), y_pred.max()], [y_pred.min(), y_pred.max()], 'k--')\n",
    "plt.legend()\n",
    "plt.ylabel('Predicted melting efficiency')\n",
    "plt.xlabel('Measured melting efficiency')\n",
    "plt.title(\"Extreme Gradient boosting regressor\")\n",
    "\n",
    "print('MSE test:', MSE_test)\n",
    "\n",
    "print()\n",
    "\n",
    "from sklearn.metrics import r2_score\n",
    "from sklearn.metrics import mean_absolute_error as MAE \n",
    "\n",
    "#METRICS: R2, RMSE, MAE\n",
    "R2=r2_score(y_test, y_pred)\n",
    "print('R2: ',R2)\n",
    "RMSE = np.sqrt(MSE_test)\n",
    "print(\"RMSE: \", RMSE)\n",
    "MAE = MAE(y_test, y_pred)\n",
    "print(\"MAE: \", MAE)\n",
    "IM=np.sqrt(((1-R2)**2) + (RMSE**2) + (MAE**2) )\n",
    "print(\"IM: \", IM)\n",
    "print()"
   ]
  },
  {
   "cell_type": "code",
   "execution_count": null,
   "metadata": {
    "id": "hY5StbfZukbo"
   },
   "outputs": [],
   "source": [
    "# initialize model and define the space of the hyperparameters to\n",
    "# perform the grid-search over\n",
    "model = xgbr\n",
    "n_estimators = [10, 100, 1000, 10000]\n",
    "learning_rate = [0.1, 0.01, 1e-3]\n",
    "max_depth = [5, 10, 20, 40]\n",
    "reg_lambda = [0.01, 0.1, 1]\n",
    "\n",
    "\n",
    "grid = dict(n_estimators=n_estimators, learning_rate=learning_rate, max_depth=max_depth )"
   ]
  },
  {
   "cell_type": "code",
   "execution_count": null,
   "metadata": {
    "colab": {
     "base_uri": "https://localhost:8080/"
    },
    "id": "8bhkrvScvA2q",
    "outputId": "e50471f8-f89f-4177-9048-1c201486dd52"
   },
   "outputs": [],
   "source": [
    "# initialize a cross-validation fold and perform a randomized-search\n",
    "# to tune the hyperparameters\n",
    "print(\"[INFO] grid searching over the hyperparameters...\")\n",
    "cvFold = RepeatedKFold(n_splits=10, n_repeats=3, random_state=1)\n",
    "randomSearch = RandomizedSearchCV(estimator=model, n_jobs=-1,\n",
    "\tcv=cvFold, param_distributions=grid,\n",
    "\tscoring=\"neg_mean_squared_error\")\n",
    "searchResults = randomSearch.fit(X_train, y_train)\n",
    "# extract the best model and evaluate it\n",
    "print(\"[INFO] evaluating...\")\n",
    "bestModel = searchResults.best_estimator_\n",
    "print(\"R2: {:.2f}\".format(bestModel.score(X_test, y_test)))\n",
    "print(bestModel)"
   ]
  },
  {
   "cell_type": "code",
   "execution_count": null,
   "metadata": {
    "colab": {
     "base_uri": "https://localhost:8080/"
    },
    "id": "0z6iA4Tv5y6c",
    "outputId": "7da234aa-7980-4285-f390-d1915aa36bd9"
   },
   "outputs": [],
   "source": [
    "# Feature importance analysis\n",
    "\n",
    "importance = xgbr.feature_importances_\n",
    "# summarize feature importance\n",
    "\n",
    "for i,v in enumerate(importance):\n",
    "\tprint('Feature: %0d, Score: %.5f' % (i,v))\n",
    "# plot feature importance\n"
   ]
  },
  {
   "cell_type": "code",
   "execution_count": null,
   "metadata": {
    "colab": {
     "base_uri": "https://localhost:8080/",
     "height": 393
    },
    "id": "f5jXaBcveTeJ",
    "outputId": "cfe55db7-7e32-478c-fd1d-6901fead8511"
   },
   "outputs": [],
   "source": [
    "# Create lists for the plot\n",
    "import seaborn as sns\n",
    "sns.set()\n",
    "\n",
    "#plt.rcParams[\"axes.grid\"] = False\n",
    "\n",
    "labels = ['WD', 'WFS', 'TS', 'P']\n",
    "x_pos = np.arange(len(labels))\n",
    "\n",
    "\n",
    "fig, ax = plt.subplots()\n",
    "fig.set_size_inches((9,6))\n",
    "\n",
    "ax.bar(x_pos, importance, align='center', alpha=0.95, color='blue')\n",
    "ax.set_ylabel('Importance')\n",
    "ax.set_xticks(x_pos)\n",
    "ax.set_xticklabels(labels)\n",
    "ax.set_title('Features Importance Analysis')\n",
    "ax.yaxis.grid(True)\n"
   ]
  },
  {
   "cell_type": "markdown",
   "metadata": {
    "id": "lZ2wVx6IxyZb"
   },
   "source": [
    "#MLP"
   ]
  },
  {
   "cell_type": "code",
   "execution_count": null,
   "metadata": {
    "colab": {
     "base_uri": "https://localhost:8080/",
     "height": 528
    },
    "id": "p4DpcAABxvuI",
    "outputId": "204a737e-86b5-4907-ec72-567f59f81bbe"
   },
   "outputs": [],
   "source": [
    "from sklearn.neural_network import MLPRegressor\n",
    "\n",
    "MLP =MLPRegressor(activation='relu', alpha=0.0001, batch_size='auto', beta_1=0.9,\n",
    "             beta_2=0.999, early_stopping=False, epsilon=1e-08,\n",
    "             hidden_layer_sizes=5, learning_rate='adaptive',\n",
    "             learning_rate_init=0.001, max_fun=15000, max_iter=3000,\n",
    "             momentum=0.9, n_iter_no_change=10, nesterovs_momentum=True,\n",
    "             power_t=0.5, random_state=1234, shuffle=True, solver='lbfgs',\n",
    "             tol=0.0001, validation_fraction=0.1, verbose=False,\n",
    "             warm_start=False)\n",
    "#MLP = MLPRegressor(hidden_layer_sizes=(1000,1000,1000), activation='relu', solver='adam', max_iter=800)\n",
    "\n",
    "#START TRAINING\n",
    "MLP.fit(X_train,y_train)\n",
    "#PREDICTION\n",
    "y_pred=MLP.predict(X_test)\n",
    "\n",
    "#Plots\n",
    "sns.set_theme(style=\"whitegrid\")\n",
    "plt.rcParams[\"axes.grid\"] = False\n",
    "fig = plt.figure()\n",
    "fig.set_size_inches((9,6))\n",
    "import matplotlib.pyplot as plt\n",
    "plt.rcParams.update({'font.size': 30})\n",
    "\n",
    "plt.plot(y_train, y_star_train, 'bx', label = 'Train')\n",
    "plt.plot([y_star_train.min(), y_star_train.max()], [y_star_train.min(), y_star_train.max()], 'k--')\n",
    "plt.plot(y_test, y_pred, 'ro', label = 'Test')\n",
    "plt.plot([y_pred.min(), y_pred.max()], [y_pred.min(), y_pred.max()], 'k--')\n",
    "plt.legend()\n",
    "plt.ylabel('Predicted melting efficiency')\n",
    "plt.xlabel('Measured melting efficiency')\n",
    "plt.title(\"Multi-layer perceptron regressor\")\n",
    "print()\n",
    "\n",
    "from sklearn.metrics import r2_score\n",
    "from sklearn.metrics import mean_absolute_error as MAE \n",
    "R2_train=r2_score(y_train, y_star_train)\n",
    "print('R2_train: ',R2_train)\n",
    "\n",
    "#METRICS: R2, RMSE, MAE\n",
    "R2=r2_score(y_test, y_pred)\n",
    "print('R2: ',R2)\n",
    "RMSE = np.sqrt(MSE_test)\n",
    "print(\"RMSE: \", RMSE)\n",
    "MAE = MAE(y_test, y_pred)\n",
    "print(\"MAE: \", MAE)\n",
    "IM=np.sqrt(((1-R2)**2) + (RMSE**2) + (MAE**2) )\n",
    "print(\"IM: \", IM)\n",
    "print()"
   ]
  },
  {
   "cell_type": "code",
   "execution_count": null,
   "metadata": {
    "id": "TD-gtnbJ2NIx"
   },
   "outputs": [],
   "source": [
    "# initialize model and define the space of the hyperparameters to\n",
    "# perform the grid-search over\n",
    "model = MLP\n",
    "hidden_layer_sizes = [5, 8, 10]\n",
    "activation = ['relu','tanh']\n",
    "solver = [\"lbfgs\", \"sgd\", \"adam\"]\n",
    "\n",
    "grid = dict(hidden_layer_sizes=hidden_layer_sizes, activation=activation, solver=solver )"
   ]
  },
  {
   "cell_type": "code",
   "execution_count": null,
   "metadata": {
    "colab": {
     "base_uri": "https://localhost:8080/"
    },
    "id": "13DxrgWo3mGg",
    "outputId": "d2e68fbf-d58c-4e4a-ba71-8173ccc7606d"
   },
   "outputs": [],
   "source": [
    "# initialize a cross-validation fold and perform a randomized-search\n",
    "# to tune the hyperparameters\n",
    "print(\"[INFO] grid searching over the hyperparameters...\")\n",
    "cvFold = RepeatedKFold(n_splits=10, n_repeats=3, random_state=1234)\n",
    "randomSearch = RandomizedSearchCV(estimator=model, n_jobs=-1,\n",
    "\tcv=cvFold, param_distributions=grid,\n",
    "\tscoring=\"neg_mean_squared_error\")\n",
    "searchResults = randomSearch.fit(X_train, y_train)\n",
    "# extract the best model and evaluate it\n",
    "print(\"[INFO] evaluating...\")\n",
    "bestModel = searchResults.best_estimator_\n",
    "print(\"R2: {:.2f}\".format(bestModel.score(X_test, y_test)))\n",
    "print(bestModel)"
   ]
  },
  {
   "cell_type": "markdown",
   "metadata": {
    "id": "ZOYI1QkauabG"
   },
   "source": [
    "## Comparisson"
   ]
  },
  {
   "cell_type": "code",
   "execution_count": null,
   "metadata": {
    "colab": {
     "base_uri": "https://localhost:8080/",
     "height": 372
    },
    "id": "DH0SyeJQ04d1",
    "outputId": "dce6d873-9c78-4a61-cfa7-97c83d05197f"
   },
   "outputs": [],
   "source": [
    "import seaborn as sns\n",
    "sns.set()\n",
    "\n",
    "y1=GP.predict(X_test)\n",
    "y2=xgbr.predict(X_test)\n",
    "y3=MLP.predict(X_test)\n",
    "\n",
    "#Plots\n",
    "sns.set_theme(style=\"whitegrid\")\n",
    "plt.rcParams[\"axes.grid\"] = False\n",
    "fig = plt.figure()\n",
    "fig.set_size_inches((7,5))\n",
    "import matplotlib.pyplot as plt\n",
    "plt.rcParams.update({'font.size': 30})\n",
    "\n",
    "plt.plot(y_train, y_star_train, 'k.', label = 'Train')\n",
    "plt.plot([y_star_train.min(), y_star_train.max()], [y_star_train.min(), y_star_train.max()], 'k--')\n",
    "plt.plot(y_test, y1, 'bs', label = 'GPR')\n",
    "plt.plot(y_test, y2, 'r^', label = 'XGBR')\n",
    "plt.plot(y_test, y3, 'go', label = 'MLP')\n",
    "\n",
    "plt.legend()\n",
    "plt.ylabel('Predicted melting efficiency')\n",
    "plt.xlabel('Measured melting efficiency')\n",
    "plt.title(\"Machine learning regressors\")\n",
    "print()"
   ]
  },
  {
   "cell_type": "code",
   "execution_count": null,
   "metadata": {
    "colab": {
     "base_uri": "https://localhost:8080/",
     "height": 412
    },
    "id": "fPy9q6RU3ZF2",
    "outputId": "cb7e3a14-dfb8-4ac8-f0fd-af53858d2d4d"
   },
   "outputs": [],
   "source": [
    "models = [ GP, xgbr, MLP]\n",
    "labels = ['GPR', 'XGBR', 'MLP']\n",
    "\n",
    "fig = plt.figure()\n",
    "fig.set_size_inches((9,6))\n",
    "\n",
    "for mod, label in zip( models, labels): \n",
    "  y_pred = mod.predict(X_test)\n",
    "  plt.plot(y_test, y_pred, 's' ,label = label)\n",
    "\n",
    "plt.plot([y_pred.min(), y_pred.max()], [y_pred.min(), y_pred.max()], 'k--')\n",
    "plt.ylabel('$y^*_{test}$')\n",
    "plt.xlabel('$y_{test}$')\n",
    "plt.legend()  \n",
    "  "
   ]
  },
  {
   "cell_type": "markdown",
   "metadata": {
    "id": "cNDmSIe0TMW4"
   },
   "source": [
    "CROSS-VALIDATION"
   ]
  },
  {
   "cell_type": "code",
   "execution_count": null,
   "metadata": {
    "colab": {
     "base_uri": "https://localhost:8080/"
    },
    "id": "HIEmJUZF69lo",
    "outputId": "f2c26541-c296-4d31-8037-683877d7d8ec"
   },
   "outputs": [],
   "source": [
    "from sklearn.metrics import r2_score\n",
    "from sklearn.metrics import mean_squared_error as MSE\n",
    "from sklearn.metrics import mean_absolute_error \n",
    "from sklearn.model_selection import cross_val_score as CV\n",
    "\n",
    "import warnings\n",
    "warnings.filterwarnings('ignore')\n",
    "\n",
    "models = [ xgbr,  GP, MLP, ]\n",
    "labels = ['XGBR', 'GPs', 'MLP', '']\n",
    "IMS = []\n",
    "\n",
    "print(\"--------------------------------------------------------------\")\n",
    "print(\"%5s | %5s | %5s | %5s | %5s \" % (\"ML algorithm\",  \"CV-R2\", \"CV-MSE\", \"CV-MAE\", \"IM\"))\n",
    "print(\"--------------------------------------------------------------\")\n",
    "\n",
    "for mod, label in zip( models, labels): \n",
    "  y_star_train = mod.predict(X_train)\n",
    " \n",
    "  scoreR2 = CV(mod, X_train, y_train, cv=5, scoring='r2')\n",
    "  #print(-1*scoreR2)\n",
    "  scoreMSE = CV(mod, X_train, y_train, cv=5, scoring='neg_mean_squared_error')\n",
    "  #print(-1*scoreMSE)\n",
    "  scoreMAE = CV(mod, X_train, y_train, cv=5, scoring='neg_mean_absolute_error')\n",
    "  #print(-1*scoreMAE)\n",
    "  IM=np.sqrt(((1-scoreR2)**2) + (scoreMSE) + (scoreMAE**2) )\n",
    "  #print(\"IM: \", IM)\n",
    "  \n",
    " \n",
    "  print(\"%15s | %.4f | %.4f | %.4f | %.4f \" % (label,  scoreR2.mean(), -1*scoreMSE.mean(), -1*scoreMAE.mean() , np.sqrt(((1-scoreR2.mean())**2) + (-1*scoreMSE.mean()) + (scoreMAE.mean()**2) )))\n",
    "print(\"--------------------------------------------------------------\")"
   ]
  },
  {
   "cell_type": "markdown",
   "metadata": {
    "id": "rAsAcApfOYtL"
   },
   "source": [
    "Results:"
   ]
  },
  {
   "cell_type": "code",
   "execution_count": null,
   "metadata": {
    "id": "VZBfy5s4PC5s"
   },
   "outputs": [],
   "source": [
    "R_GP=np.array(GP.predict(X_test))\n",
    "R_XGB=np.array(xgbr.predict(X_test))\n",
    "R_MLP=np.array(MLP.predict(X_test))"
   ]
  },
  {
   "cell_type": "code",
   "execution_count": null,
   "metadata": {
    "colab": {
     "base_uri": "https://localhost:8080/"
    },
    "id": "MoRV_bpXVuYf",
    "outputId": "a90d4b65-c07e-4434-fc7b-6b9c1e717489"
   },
   "outputs": [],
   "source": [
    "R_GP.shape"
   ]
  },
  {
   "cell_type": "code",
   "execution_count": null,
   "metadata": {
    "id": "zakleEb3Oq-Q"
   },
   "outputs": [],
   "source": [
    "R1_m=np.mean(R_GP*100)\n",
    "R2_m=np.mean(R_XGB*100)\n",
    "R3_m=np.mean(R_MLP*100)"
   ]
  },
  {
   "cell_type": "code",
   "execution_count": null,
   "metadata": {
    "colab": {
     "base_uri": "https://localhost:8080/"
    },
    "id": "lEJ6NHQGSITf",
    "outputId": "ec2fe377-f278-422a-d113-4643842c6ccf"
   },
   "outputs": [],
   "source": [
    "R3_m\n"
   ]
  },
  {
   "cell_type": "code",
   "execution_count": null,
   "metadata": {
    "id": "LgV4E_KkPBSn"
   },
   "outputs": [],
   "source": [
    "R1_sd=np.std(R_GP*100)\n",
    "R2_sd=np.std(R_XGB*100)\n",
    "R3_sd=np.std(R_MLP*100)"
   ]
  },
  {
   "cell_type": "code",
   "execution_count": null,
   "metadata": {
    "colab": {
     "base_uri": "https://localhost:8080/"
    },
    "id": "11klV8sRWMBJ",
    "outputId": "6f74512a-3bfa-48aa-9d48-baa6bab658ae"
   },
   "outputs": [],
   "source": [
    "R3_sd"
   ]
  },
  {
   "cell_type": "code",
   "execution_count": null,
   "metadata": {
    "id": "eHzpyRMaPHmT"
   },
   "outputs": [],
   "source": [
    "# Create lists for the plot\n",
    "labels = ['GPR', 'XGBR', 'MLP']\n",
    "x_pos = np.arange(len(labels))\n",
    "CTEs = [R1_m, R2_m, R3_m]\n",
    "error = [R1_sd, R2_sd, R3_sd ]"
   ]
  },
  {
   "cell_type": "code",
   "execution_count": null,
   "metadata": {
    "colab": {
     "base_uri": "https://localhost:8080/",
     "height": 293
    },
    "id": "vLISX-IgQbGo",
    "outputId": "bed6506a-02a8-452c-e7e8-13e2f05ea4de"
   },
   "outputs": [],
   "source": [
    "# Build the plot\n",
    "import seaborn as sns\n",
    "sns.set()\n",
    "\n",
    "\n",
    "fig, ax = plt.subplots()\n",
    "#fig.set_size_inches((8,5))\n",
    "width = [0.4,0.4, 0.4]\n",
    "\n",
    "ax.bar(x_pos, CTEs, yerr=error, align='center', alpha=0.95, ecolor='black', capsize=10, width=width, color='blue')\n",
    "ax.set_ylabel('Melting efficiency (%)')\n",
    "ax.set_xticks(x_pos)\n",
    "ax.set_xticklabels(labels)\n",
    "ax.set_title('Melting efficiency predictions')\n",
    "ax.yaxis.grid(True)\n",
    "\n",
    "# Save the figure and show\n",
    "plt.tight_layout()\n",
    "plt.savefig('bar_plot_with_error_bars.png')\n",
    "plt.show()"
   ]
  },
  {
   "cell_type": "markdown",
   "metadata": {
    "id": "z6rpZ3V6-LuH"
   },
   "source": [
    "# Travel speed assessment"
   ]
  },
  {
   "cell_type": "code",
   "execution_count": null,
   "metadata": {
    "colab": {
     "base_uri": "https://localhost:8080/",
     "height": 284
    },
    "id": "oPdNDh7Su4Uu",
    "outputId": "0bdb9925-0d3f-41f5-f781-884449103761"
   },
   "outputs": [],
   "source": [
    "#TS data\n",
    "data3 = pd.read_table('TS2.txt') \n",
    "data3.describe()"
   ]
  },
  {
   "cell_type": "code",
   "execution_count": null,
   "metadata": {
    "id": "-mpaEqrDw_ny"
   },
   "outputs": [],
   "source": [
    "scaler = StandardScaler()\n",
    "X_TS = scaler.fit_transform(data3)"
   ]
  },
  {
   "cell_type": "code",
   "execution_count": null,
   "metadata": {
    "id": "UpYh3ys2xIUG"
   },
   "outputs": [],
   "source": [
    "TSXGB=np.array(xgbr.predict(X_TS))\n",
    "TSGP=np.array(GP.predict(X_TS))\n",
    "TSMLP=np.array(MLP.predict(X_TS))"
   ]
  },
  {
   "cell_type": "code",
   "execution_count": null,
   "metadata": {
    "id": "OxeWF5A2xzAa"
   },
   "outputs": [],
   "source": [
    "YTS=data3['TS'][:,None]"
   ]
  },
  {
   "cell_type": "code",
   "execution_count": null,
   "metadata": {
    "colab": {
     "base_uri": "https://localhost:8080/",
     "height": 427
    },
    "id": "-W6X3ZT0xUuz",
    "outputId": "c71cdb5a-dcf2-4643-b5f8-b3653e3eb134"
   },
   "outputs": [],
   "source": [
    "#Plots\n",
    "sns.set_theme(style=\"whitegrid\")\n",
    "plt.rcParams[\"axes.grid\"] = False\n",
    "fig = plt.figure()\n",
    "fig.set_size_inches((9,6))\n",
    "import matplotlib.pyplot as plt\n",
    "plt.rcParams.update({'font.size': 30})\n",
    "\n",
    "plt.plot(YTS, TSXGB, 'bo', label = 'XGBR')\n",
    "plt.legend()\n",
    "plt.ylabel('Predicted melting efficiency')\n",
    "plt.xlabel('Travel speed')\n",
    "plt.title(\"XGBR\")\n",
    "print()"
   ]
  },
  {
   "cell_type": "code",
   "execution_count": null,
   "metadata": {
    "colab": {
     "base_uri": "https://localhost:8080/",
     "height": 427
    },
    "id": "rs_qVaKjyH4p",
    "outputId": "0ffee355-772c-443c-c27c-17bfa4c0a25c"
   },
   "outputs": [],
   "source": [
    "#Plots\n",
    "sns.set_theme(style=\"whitegrid\")\n",
    "plt.rcParams[\"axes.grid\"] = False\n",
    "fig = plt.figure()\n",
    "fig.set_size_inches((9,6))\n",
    "import matplotlib.pyplot as plt\n",
    "plt.rcParams.update({'font.size': 30})\n",
    "\n",
    "plt.plot(YTS, TSGP, 'ko', label = 'GPR')\n",
    "plt.legend()\n",
    "plt.ylabel('Predicted melting efficiency')\n",
    "plt.xlabel('Travel speed')\n",
    "plt.title(\"GPR\")\n",
    "print()"
   ]
  },
  {
   "cell_type": "code",
   "execution_count": null,
   "metadata": {
    "colab": {
     "base_uri": "https://localhost:8080/",
     "height": 427
    },
    "id": "tsY4f4WKybSF",
    "outputId": "fcae5106-68e2-4caa-c27f-d7857879aec9"
   },
   "outputs": [],
   "source": [
    "#Plots\n",
    "sns.set_theme(style=\"whitegrid\")\n",
    "plt.rcParams[\"axes.grid\"] = False\n",
    "fig = plt.figure()\n",
    "fig.set_size_inches((9,6))\n",
    "import matplotlib.pyplot as plt\n",
    "plt.rcParams.update({'font.size': 30})\n",
    "\n",
    "plt.plot(YTS, TSMLP, 'ro', label = 'MLP')\n",
    "plt.legend()\n",
    "plt.ylabel('Predicted melting efficiency')\n",
    "plt.xlabel('Travel speed')\n",
    "plt.title(\"MLP\")\n",
    "print()"
   ]
  },
  {
   "cell_type": "code",
   "execution_count": null,
   "metadata": {
    "colab": {
     "base_uri": "https://localhost:8080/",
     "height": 356
    },
    "id": "1UqtbdBcylrD",
    "outputId": "4aa96874-9bb7-4602-b432-a7015ef04572"
   },
   "outputs": [],
   "source": [
    "sns.set_theme(style=\"whitegrid\")\n",
    "plt.rcParams[\"axes.grid\"] = False\n",
    "\n",
    "models = [ GP, xgbr, MLP]\n",
    "labels = ['GPR', 'XGBR', 'MLP']\n",
    "\n",
    "fig = plt.figure()\n",
    "fig.set_size_inches((7,5))\n",
    "\n",
    "for mod, label in zip( models, labels): \n",
    "  y_pred = mod.predict(X_TS)\n",
    "  plt.plot(YTS, y_pred, 's' ,label = label)\n",
    "\n",
    "plt.ylabel('Predicted melting efficiency')\n",
    "plt.xlabel('Travel speed [mm/s]')\n",
    "plt.legend() "
   ]
  },
  {
   "cell_type": "code",
   "execution_count": null,
   "metadata": {
    "id": "Xfctx83i-RKl"
   },
   "outputs": [],
   "source": []
  }
 ],
 "metadata": {
  "accelerator": "GPU",
  "colab": {
   "authorship_tag": "ABX9TyNwxHbXxbQ1nOPYFngn5YEn",
   "collapsed_sections": [],
   "include_colab_link": true,
   "mount_file_id": "1AVhNreVvb3V43mwDnostdWyl9cHlYSxt",
   "name": "MeltingEff-WAAM.ipynb",
   "provenance": []
  },
  "kernelspec": {
   "display_name": "Python 3 (ipykernel)",
   "language": "python",
   "name": "python3"
  },
  "language_info": {
   "codemirror_mode": {
    "name": "ipython",
    "version": 3
   },
   "file_extension": ".py",
   "mimetype": "text/x-python",
   "name": "python",
   "nbconvert_exporter": "python",
   "pygments_lexer": "ipython3",
   "version": "3.9.12"
  }
 },
 "nbformat": 4,
 "nbformat_minor": 1
}
