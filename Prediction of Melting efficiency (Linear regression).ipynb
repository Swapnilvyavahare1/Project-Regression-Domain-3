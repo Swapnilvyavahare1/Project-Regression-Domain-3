{
 "cells": [
  {
   "cell_type": "code",
   "execution_count": 1,
   "id": "f376373f",
   "metadata": {},
   "outputs": [],
   "source": [
    "# import basic libraries\n",
    "import numpy as np\n",
    "import pandas as pd\n",
    "import matplotlib.pyplot as plt\n",
    "import seaborn as sns\n",
    "%matplotlib inline\n",
    "sns.set()\n",
    "\n",
    "import warnings\n",
    "warnings.filterwarnings('ignore')\n",
    "import os\n",
    "os.getcwd()\n",
    "\n",
    "import sidetable\n",
    "#df.stb.freq(['City'], style=True)"
   ]
  },
  {
   "cell_type": "markdown",
   "id": "b8684100",
   "metadata": {},
   "source": [
    "Randomized search"
   ]
  },
  {
   "cell_type": "code",
   "execution_count": 2,
   "id": "0262e294",
   "metadata": {},
   "outputs": [],
   "source": [
    "from sklearn.model_selection import RandomizedSearchCV\n",
    "from sklearn.model_selection import RepeatedKFold\n",
    "from sklearn.preprocessing import StandardScaler"
   ]
  },
  {
   "cell_type": "code",
   "execution_count": 3,
   "id": "95171bfa",
   "metadata": {},
   "outputs": [
    {
     "data": {
      "text/html": [
       "<div>\n",
       "<style scoped>\n",
       "    .dataframe tbody tr th:only-of-type {\n",
       "        vertical-align: middle;\n",
       "    }\n",
       "\n",
       "    .dataframe tbody tr th {\n",
       "        vertical-align: top;\n",
       "    }\n",
       "\n",
       "    .dataframe thead th {\n",
       "        text-align: right;\n",
       "    }\n",
       "</style>\n",
       "<table border=\"1\" class=\"dataframe\">\n",
       "  <thead>\n",
       "    <tr style=\"text-align: right;\">\n",
       "      <th></th>\n",
       "      <th>WD</th>\n",
       "      <th>WFS</th>\n",
       "      <th>TS</th>\n",
       "      <th>P</th>\n",
       "      <th>ME</th>\n",
       "    </tr>\n",
       "  </thead>\n",
       "  <tbody>\n",
       "    <tr>\n",
       "      <th>count</th>\n",
       "      <td>75.000000</td>\n",
       "      <td>75.000000</td>\n",
       "      <td>75.000000</td>\n",
       "      <td>75.000000</td>\n",
       "      <td>75.000000</td>\n",
       "    </tr>\n",
       "    <tr>\n",
       "      <th>mean</th>\n",
       "      <td>0.954667</td>\n",
       "      <td>95.451333</td>\n",
       "      <td>8.326533</td>\n",
       "      <td>1819.171733</td>\n",
       "      <td>0.445693</td>\n",
       "    </tr>\n",
       "    <tr>\n",
       "      <th>std</th>\n",
       "      <td>0.172653</td>\n",
       "      <td>53.012550</td>\n",
       "      <td>5.220140</td>\n",
       "      <td>757.431591</td>\n",
       "      <td>0.055220</td>\n",
       "    </tr>\n",
       "    <tr>\n",
       "      <th>min</th>\n",
       "      <td>0.800000</td>\n",
       "      <td>28.000000</td>\n",
       "      <td>1.660000</td>\n",
       "      <td>531.220000</td>\n",
       "      <td>0.307000</td>\n",
       "    </tr>\n",
       "    <tr>\n",
       "      <th>25%</th>\n",
       "      <td>0.800000</td>\n",
       "      <td>54.585000</td>\n",
       "      <td>4.450000</td>\n",
       "      <td>1171.550000</td>\n",
       "      <td>0.411000</td>\n",
       "    </tr>\n",
       "    <tr>\n",
       "      <th>50%</th>\n",
       "      <td>0.800000</td>\n",
       "      <td>80.330000</td>\n",
       "      <td>6.670000</td>\n",
       "      <td>1798.200000</td>\n",
       "      <td>0.445000</td>\n",
       "    </tr>\n",
       "    <tr>\n",
       "      <th>75%</th>\n",
       "      <td>1.200000</td>\n",
       "      <td>123.250000</td>\n",
       "      <td>10.980000</td>\n",
       "      <td>2435.315000</td>\n",
       "      <td>0.491500</td>\n",
       "    </tr>\n",
       "    <tr>\n",
       "      <th>max</th>\n",
       "      <td>1.200000</td>\n",
       "      <td>222.500000</td>\n",
       "      <td>25.000000</td>\n",
       "      <td>3266.550000</td>\n",
       "      <td>0.553000</td>\n",
       "    </tr>\n",
       "  </tbody>\n",
       "</table>\n",
       "</div>"
      ],
      "text/plain": [
       "              WD         WFS         TS            P         ME\n",
       "count  75.000000   75.000000  75.000000    75.000000  75.000000\n",
       "mean    0.954667   95.451333   8.326533  1819.171733   0.445693\n",
       "std     0.172653   53.012550   5.220140   757.431591   0.055220\n",
       "min     0.800000   28.000000   1.660000   531.220000   0.307000\n",
       "25%     0.800000   54.585000   4.450000  1171.550000   0.411000\n",
       "50%     0.800000   80.330000   6.670000  1798.200000   0.445000\n",
       "75%     1.200000  123.250000  10.980000  2435.315000   0.491500\n",
       "max     1.200000  222.500000  25.000000  3266.550000   0.553000"
      ]
     },
     "execution_count": 3,
     "metadata": {},
     "output_type": "execute_result"
    }
   ],
   "source": [
    "#Experimental data\n",
    "data = pd.read_table('datas.txt') \n",
    "data.describe()"
   ]
  },
  {
   "cell_type": "code",
   "execution_count": 4,
   "id": "4d3b6ebd",
   "metadata": {},
   "outputs": [
    {
     "data": {
      "text/plain": [
       "Index(['WD', 'WFS', 'TS', 'P', 'ME'], dtype='object')"
      ]
     },
     "execution_count": 4,
     "metadata": {},
     "output_type": "execute_result"
    }
   ],
   "source": [
    "data.columns"
   ]
  },
  {
   "cell_type": "code",
   "execution_count": 5,
   "id": "b0d859e6",
   "metadata": {},
   "outputs": [],
   "source": [
    "x= data[['WD', 'WFS', 'TS', 'P']]\n",
    "y= data[['ME']]"
   ]
  },
  {
   "cell_type": "markdown",
   "id": "306bdb7e",
   "metadata": {},
   "source": [
    "### Preprocession steps\n",
    "\n",
    "|Sr.No.| Step | Option 1 | Option 2 |\n",
    "|---| --- | --- | --- |\n",
    "|1| Missing value | info | isnull |\n",
    "|2| Encoding |  |  |\n",
    "|3| Outlier | boxplot |  |\n",
    "|4| Feature scaling |  |  |\n",
    "|5| Imbalance |  |  |"
   ]
  },
  {
   "cell_type": "code",
   "execution_count": 6,
   "id": "ca80896f",
   "metadata": {},
   "outputs": [
    {
     "data": {
      "text/plain": [
       "WD     0\n",
       "WFS    0\n",
       "TS     0\n",
       "P      0\n",
       "ME     0\n",
       "dtype: int64"
      ]
     },
     "execution_count": 6,
     "metadata": {},
     "output_type": "execute_result"
    }
   ],
   "source": [
    "data.isnull().sum()"
   ]
  },
  {
   "cell_type": "code",
   "execution_count": 7,
   "id": "9c3000c5",
   "metadata": {},
   "outputs": [
    {
     "name": "stdout",
     "output_type": "stream",
     "text": [
      "<class 'pandas.core.frame.DataFrame'>\n",
      "RangeIndex: 75 entries, 0 to 74\n",
      "Data columns (total 5 columns):\n",
      " #   Column  Non-Null Count  Dtype  \n",
      "---  ------  --------------  -----  \n",
      " 0   WD      75 non-null     float64\n",
      " 1   WFS     75 non-null     float64\n",
      " 2   TS      75 non-null     float64\n",
      " 3   P       75 non-null     float64\n",
      " 4   ME      75 non-null     float64\n",
      "dtypes: float64(5)\n",
      "memory usage: 3.1 KB\n"
     ]
    }
   ],
   "source": [
    "data.info()"
   ]
  },
  {
   "cell_type": "code",
   "execution_count": 8,
   "id": "1c632c40",
   "metadata": {
    "scrolled": true
   },
   "outputs": [
    {
     "data": {
      "image/png": "[encoded data removed]",
      "text/plain": [
       "<Figure size 432x288 with 1 Axes>"
      ]
     },
     "metadata": {},
     "output_type": "display_data"
    },
    {
     "data": {
      "image/png": "[encoded data removed]",
      "text/plain": [
       "<Figure size 432x288 with 1 Axes>"
      ]
     },
     "metadata": {},
     "output_type": "display_data"
    },
    {
     "data": {
      "image/png": "[encoded data removed]",
      "text/plain": [
       "<Figure size 432x288 with 1 Axes>"
      ]
     },
     "metadata": {},
     "output_type": "display_data"
    },
    {
     "data": {
      "image/png": "[encoded data removed]",
      "text/plain": [
       "<Figure size 432x288 with 1 Axes>"
      ]
     },
     "metadata": {},
     "output_type": "display_data"
    }
   ],
   "source": [
    "# Plot boxplot to detect outlier\n",
    "def boxplot(col):\n",
    "    sns.boxplot(data[col])\n",
    "    plt.show()\n",
    "\n",
    "for i in list(data.columns)[1:]:\n",
    "    boxplot(i)"
   ]
  },
  {
   "cell_type": "code",
   "execution_count": 9,
   "id": "e055b896",
   "metadata": {},
   "outputs": [],
   "source": [
    "df= data"
   ]
  },
  {
   "cell_type": "code",
   "execution_count": 10,
   "id": "f8b57f6f",
   "metadata": {},
   "outputs": [
    {
     "data": {
      "text/plain": [
       "<AxesSubplot:xlabel='ME', ylabel='Density'>"
      ]
     },
     "execution_count": 10,
     "metadata": {},
     "output_type": "execute_result"
    },
    {
     "data": {
      "image/png": "[encoded data removed]",
      "text/plain": [
       "<Figure size 432x288 with 1 Axes>"
      ]
     },
     "metadata": {},
     "output_type": "display_data"
    }
   ],
   "source": [
    "# Check distribution of dependent variable\n",
    "sns.distplot(df['ME'])"
   ]
  },
  {
   "cell_type": "code",
   "execution_count": 11,
   "id": "6b72b4f1",
   "metadata": {},
   "outputs": [],
   "source": [
    "# Feature scaling\n",
    "from sklearn.preprocessing import StandardScaler\n",
    "scaler= StandardScaler()\n",
    "x_scaled= scaler.fit_transform(x)"
   ]
  },
  {
   "cell_type": "code",
   "execution_count": 12,
   "id": "eed882f4",
   "metadata": {},
   "outputs": [
    {
     "data": {
      "text/html": [
       "<div>\n",
       "<style scoped>\n",
       "    .dataframe tbody tr th:only-of-type {\n",
       "        vertical-align: middle;\n",
       "    }\n",
       "\n",
       "    .dataframe tbody tr th {\n",
       "        vertical-align: top;\n",
       "    }\n",
       "\n",
       "    .dataframe thead th {\n",
       "        text-align: right;\n",
       "    }\n",
       "</style>\n",
       "<table border=\"1\" class=\"dataframe\">\n",
       "  <thead>\n",
       "    <tr style=\"text-align: right;\">\n",
       "      <th></th>\n",
       "      <th>VIF</th>\n",
       "      <th>Features</th>\n",
       "    </tr>\n",
       "  </thead>\n",
       "  <tbody>\n",
       "    <tr>\n",
       "      <th>0</th>\n",
       "      <td>6.147319</td>\n",
       "      <td>WD</td>\n",
       "    </tr>\n",
       "    <tr>\n",
       "      <th>1</th>\n",
       "      <td>16.006094</td>\n",
       "      <td>WFS</td>\n",
       "    </tr>\n",
       "    <tr>\n",
       "      <th>2</th>\n",
       "      <td>3.691277</td>\n",
       "      <td>TS</td>\n",
       "    </tr>\n",
       "    <tr>\n",
       "      <th>3</th>\n",
       "      <td>8.731154</td>\n",
       "      <td>P</td>\n",
       "    </tr>\n",
       "  </tbody>\n",
       "</table>\n",
       "</div>"
      ],
      "text/plain": [
       "         VIF Features\n",
       "0   6.147319       WD\n",
       "1  16.006094      WFS\n",
       "2   3.691277       TS\n",
       "3   8.731154        P"
      ]
     },
     "execution_count": 12,
     "metadata": {},
     "output_type": "execute_result"
    }
   ],
   "source": [
    "# VIF\n",
    "from statsmodels.stats.outliers_influence import variance_inflation_factor\n",
    "variable= x_scaled\n",
    "\n",
    "vif= pd.DataFrame()\n",
    "vif['VIF']=[variance_inflation_factor(variable,i) for i in range(variable.shape[1])]\n",
    "vif['Features']= x.columns\n",
    "vif"
   ]
  },
  {
   "cell_type": "markdown",
   "id": "af0b927a",
   "metadata": {},
   "source": [
    "VIF>5 for WFS. We should drop it as per rule. But we have not dropped it as per reference file"
   ]
  },
  {
   "cell_type": "code",
   "execution_count": 13,
   "id": "157f1328",
   "metadata": {},
   "outputs": [],
   "source": [
    "x= data[['WD', 'TS', 'P']]"
   ]
  },
  {
   "cell_type": "code",
   "execution_count": 14,
   "id": "c62e5bad",
   "metadata": {},
   "outputs": [],
   "source": [
    "# Split data into train and test\n",
    "from sklearn.model_selection import train_test_split\n",
    "x_train, x_test, y_train, y_test= train_test_split(x, y, train_size=0.8, random_state=1)"
   ]
  },
  {
   "cell_type": "markdown",
   "id": "104c3974",
   "metadata": {},
   "source": [
    "## Linear regression"
   ]
  },
  {
   "cell_type": "code",
   "execution_count": 15,
   "id": "0586fb73",
   "metadata": {
    "scrolled": true
   },
   "outputs": [
    {
     "data": {
      "text/html": [
       "<table class=\"simpletable\">\n",
       "<caption>OLS Regression Results</caption>\n",
       "<tr>\n",
       "  <th>Dep. Variable:</th>           <td>ME</td>        <th>  R-squared (uncentered):</th>      <td>   0.987</td>\n",
       "</tr>\n",
       "<tr>\n",
       "  <th>Model:</th>                   <td>OLS</td>       <th>  Adj. R-squared (uncentered):</th> <td>   0.986</td>\n",
       "</tr>\n",
       "<tr>\n",
       "  <th>Method:</th>             <td>Least Squares</td>  <th>  F-statistic:       </th>          <td>   1448.</td>\n",
       "</tr>\n",
       "<tr>\n",
       "  <th>Date:</th>             <td>Thu, 22 Dec 2022</td> <th>  Prob (F-statistic):</th>          <td>9.68e-54</td>\n",
       "</tr>\n",
       "<tr>\n",
       "  <th>Time:</th>                 <td>11:54:09</td>     <th>  Log-Likelihood:    </th>          <td>  92.817</td>\n",
       "</tr>\n",
       "<tr>\n",
       "  <th>No. Observations:</th>      <td>    60</td>      <th>  AIC:               </th>          <td>  -179.6</td>\n",
       "</tr>\n",
       "<tr>\n",
       "  <th>Df Residuals:</th>          <td>    57</td>      <th>  BIC:               </th>          <td>  -173.4</td>\n",
       "</tr>\n",
       "<tr>\n",
       "  <th>Df Model:</th>              <td>     3</td>      <th>                     </th>              <td> </td>   \n",
       "</tr>\n",
       "<tr>\n",
       "  <th>Covariance Type:</th>      <td>nonrobust</td>    <th>                     </th>              <td> </td>   \n",
       "</tr>\n",
       "</table>\n",
       "<table class=\"simpletable\">\n",
       "<tr>\n",
       "   <td></td>     <th>coef</th>     <th>std err</th>      <th>t</th>      <th>P>|t|</th>  <th>[0.025</th>    <th>0.975]</th>  \n",
       "</tr>\n",
       "<tr>\n",
       "  <th>WD</th> <td>    0.3124</td> <td>    0.019</td> <td>   16.356</td> <td> 0.000</td> <td>    0.274</td> <td>    0.351</td>\n",
       "</tr>\n",
       "<tr>\n",
       "  <th>TS</th> <td>    0.0127</td> <td>    0.002</td> <td>    7.844</td> <td> 0.000</td> <td>    0.009</td> <td>    0.016</td>\n",
       "</tr>\n",
       "<tr>\n",
       "  <th>P</th>  <td> 2.042e-05</td> <td> 1.31e-05</td> <td>    1.562</td> <td> 0.124</td> <td>-5.77e-06</td> <td> 4.66e-05</td>\n",
       "</tr>\n",
       "</table>\n",
       "<table class=\"simpletable\">\n",
       "<tr>\n",
       "  <th>Omnibus:</th>       <td> 2.730</td> <th>  Durbin-Watson:     </th> <td>   1.763</td>\n",
       "</tr>\n",
       "<tr>\n",
       "  <th>Prob(Omnibus):</th> <td> 0.255</td> <th>  Jarque-Bera (JB):  </th> <td>   2.417</td>\n",
       "</tr>\n",
       "<tr>\n",
       "  <th>Skew:</th>          <td>-0.392</td> <th>  Prob(JB):          </th> <td>   0.299</td>\n",
       "</tr>\n",
       "<tr>\n",
       "  <th>Kurtosis:</th>      <td> 2.406</td> <th>  Cond. No.          </th> <td>5.53e+03</td>\n",
       "</tr>\n",
       "</table><br/><br/>Notes:<br/>[1] R² is computed without centering (uncentered) since the model does not contain a constant.<br/>[2] Standard Errors assume that the covariance matrix of the errors is correctly specified.<br/>[3] The condition number is large, 5.53e+03. This might indicate that there are<br/>strong multicollinearity or other numerical problems."
      ],
      "text/plain": [
       "<class 'statsmodels.iolib.summary.Summary'>\n",
       "\"\"\"\n",
       "                                 OLS Regression Results                                \n",
       "=======================================================================================\n",
       "Dep. Variable:                     ME   R-squared (uncentered):                   0.987\n",
       "Model:                            OLS   Adj. R-squared (uncentered):              0.986\n",
       "Method:                 Least Squares   F-statistic:                              1448.\n",
       "Date:                Thu, 22 Dec 2022   Prob (F-statistic):                    9.68e-54\n",
       "Time:                        11:54:09   Log-Likelihood:                          92.817\n",
       "No. Observations:                  60   AIC:                                     -179.6\n",
       "Df Residuals:                      57   BIC:                                     -173.4\n",
       "Df Model:                           3                                                  \n",
       "Covariance Type:            nonrobust                                                  \n",
       "==============================================================================\n",
       "                 coef    std err          t      P>|t|      [0.025      0.975]\n",
       "------------------------------------------------------------------------------\n",
       "WD             0.3124      0.019     16.356      0.000       0.274       0.351\n",
       "TS             0.0127      0.002      7.844      0.000       0.009       0.016\n",
       "P           2.042e-05   1.31e-05      1.562      0.124   -5.77e-06    4.66e-05\n",
       "==============================================================================\n",
       "Omnibus:                        2.730   Durbin-Watson:                   1.763\n",
       "Prob(Omnibus):                  0.255   Jarque-Bera (JB):                2.417\n",
       "Skew:                          -0.392   Prob(JB):                        0.299\n",
       "Kurtosis:                       2.406   Cond. No.                     5.53e+03\n",
       "==============================================================================\n",
       "\n",
       "Notes:\n",
       "[1] R² is computed without centering (uncentered) since the model does not contain a constant.\n",
       "[2] Standard Errors assume that the covariance matrix of the errors is correctly specified.\n",
       "[3] The condition number is large, 5.53e+03. This might indicate that there are\n",
       "strong multicollinearity or other numerical problems.\n",
       "\"\"\""
      ]
     },
     "execution_count": 15,
     "metadata": {},
     "output_type": "execute_result"
    }
   ],
   "source": [
    "# Build a linear model by OLS\n",
    "\n",
    "from statsmodels.regression.linear_model import OLS\n",
    "import statsmodels.regression.linear_model as smf\n",
    "\n",
    "reg_model= smf.OLS(endog= y_train, exog= x_train).fit()\n",
    "reg_model.summary()"
   ]
  },
  {
   "cell_type": "markdown",
   "id": "5473f389",
   "metadata": {},
   "source": [
    "p>0.05 for 'P'. We should drop it."
   ]
  },
  {
   "cell_type": "code",
   "execution_count": 16,
   "id": "c76c4692",
   "metadata": {},
   "outputs": [],
   "source": [
    "x= data[['WD', 'TS']]"
   ]
  },
  {
   "cell_type": "code",
   "execution_count": 17,
   "id": "c57caf02",
   "metadata": {},
   "outputs": [],
   "source": [
    "# Split data into train and test\n",
    "from sklearn.model_selection import train_test_split\n",
    "x_train, x_test, y_train, y_test= train_test_split(x, y, train_size=0.8, random_state=1)"
   ]
  },
  {
   "cell_type": "code",
   "execution_count": 18,
   "id": "42debabb",
   "metadata": {
    "scrolled": true
   },
   "outputs": [
    {
     "data": {
      "text/html": [
       "<table class=\"simpletable\">\n",
       "<caption>OLS Regression Results</caption>\n",
       "<tr>\n",
       "  <th>Dep. Variable:</th>           <td>ME</td>        <th>  R-squared (uncentered):</th>      <td>   0.986</td>\n",
       "</tr>\n",
       "<tr>\n",
       "  <th>Model:</th>                   <td>OLS</td>       <th>  Adj. R-squared (uncentered):</th> <td>   0.986</td>\n",
       "</tr>\n",
       "<tr>\n",
       "  <th>Method:</th>             <td>Least Squares</td>  <th>  F-statistic:       </th>          <td>   2118.</td>\n",
       "</tr>\n",
       "<tr>\n",
       "  <th>Date:</th>             <td>Thu, 22 Dec 2022</td> <th>  Prob (F-statistic):</th>          <td>6.12e-55</td>\n",
       "</tr>\n",
       "<tr>\n",
       "  <th>Time:</th>                 <td>11:54:09</td>     <th>  Log-Likelihood:    </th>          <td>  91.561</td>\n",
       "</tr>\n",
       "<tr>\n",
       "  <th>No. Observations:</th>      <td>    60</td>      <th>  AIC:               </th>          <td>  -179.1</td>\n",
       "</tr>\n",
       "<tr>\n",
       "  <th>Df Residuals:</th>          <td>    58</td>      <th>  BIC:               </th>          <td>  -174.9</td>\n",
       "</tr>\n",
       "<tr>\n",
       "  <th>Df Model:</th>              <td>     2</td>      <th>                     </th>              <td> </td>   \n",
       "</tr>\n",
       "<tr>\n",
       "  <th>Covariance Type:</th>      <td>nonrobust</td>    <th>                     </th>              <td> </td>   \n",
       "</tr>\n",
       "</table>\n",
       "<table class=\"simpletable\">\n",
       "<tr>\n",
       "   <td></td>     <th>coef</th>     <th>std err</th>      <th>t</th>      <th>P>|t|</th>  <th>[0.025</th>    <th>0.975]</th>  \n",
       "</tr>\n",
       "<tr>\n",
       "  <th>WD</th> <td>    0.3360</td> <td>    0.012</td> <td>   28.557</td> <td> 0.000</td> <td>    0.312</td> <td>    0.360</td>\n",
       "</tr>\n",
       "<tr>\n",
       "  <th>TS</th> <td>    0.0145</td> <td>    0.001</td> <td>   12.713</td> <td> 0.000</td> <td>    0.012</td> <td>    0.017</td>\n",
       "</tr>\n",
       "</table>\n",
       "<table class=\"simpletable\">\n",
       "<tr>\n",
       "  <th>Omnibus:</th>       <td> 4.724</td> <th>  Durbin-Watson:     </th> <td>   1.811</td>\n",
       "</tr>\n",
       "<tr>\n",
       "  <th>Prob(Omnibus):</th> <td> 0.094</td> <th>  Jarque-Bera (JB):  </th> <td>   4.586</td>\n",
       "</tr>\n",
       "<tr>\n",
       "  <th>Skew:</th>          <td>-0.631</td> <th>  Prob(JB):          </th> <td>   0.101</td>\n",
       "</tr>\n",
       "<tr>\n",
       "  <th>Kurtosis:</th>      <td> 2.507</td> <th>  Cond. No.          </th> <td>    17.2</td>\n",
       "</tr>\n",
       "</table><br/><br/>Notes:<br/>[1] R² is computed without centering (uncentered) since the model does not contain a constant.<br/>[2] Standard Errors assume that the covariance matrix of the errors is correctly specified."
      ],
      "text/plain": [
       "<class 'statsmodels.iolib.summary.Summary'>\n",
       "\"\"\"\n",
       "                                 OLS Regression Results                                \n",
       "=======================================================================================\n",
       "Dep. Variable:                     ME   R-squared (uncentered):                   0.986\n",
       "Model:                            OLS   Adj. R-squared (uncentered):              0.986\n",
       "Method:                 Least Squares   F-statistic:                              2118.\n",
       "Date:                Thu, 22 Dec 2022   Prob (F-statistic):                    6.12e-55\n",
       "Time:                        11:54:09   Log-Likelihood:                          91.561\n",
       "No. Observations:                  60   AIC:                                     -179.1\n",
       "Df Residuals:                      58   BIC:                                     -174.9\n",
       "Df Model:                           2                                                  \n",
       "Covariance Type:            nonrobust                                                  \n",
       "==============================================================================\n",
       "                 coef    std err          t      P>|t|      [0.025      0.975]\n",
       "------------------------------------------------------------------------------\n",
       "WD             0.3360      0.012     28.557      0.000       0.312       0.360\n",
       "TS             0.0145      0.001     12.713      0.000       0.012       0.017\n",
       "==============================================================================\n",
       "Omnibus:                        4.724   Durbin-Watson:                   1.811\n",
       "Prob(Omnibus):                  0.094   Jarque-Bera (JB):                4.586\n",
       "Skew:                          -0.631   Prob(JB):                        0.101\n",
       "Kurtosis:                       2.507   Cond. No.                         17.2\n",
       "==============================================================================\n",
       "\n",
       "Notes:\n",
       "[1] R² is computed without centering (uncentered) since the model does not contain a constant.\n",
       "[2] Standard Errors assume that the covariance matrix of the errors is correctly specified.\n",
       "\"\"\""
      ]
     },
     "execution_count": 18,
     "metadata": {},
     "output_type": "execute_result"
    }
   ],
   "source": [
    "# Build a linear model by OLS\n",
    "\n",
    "from statsmodels.regression.linear_model import OLS\n",
    "import statsmodels.regression.linear_model as smf\n",
    "\n",
    "reg_model= smf.OLS(endog= y_train, exog= x_train).fit()\n",
    "reg_model.summary()"
   ]
  },
  {
   "cell_type": "code",
   "execution_count": 19,
   "id": "06bb5287",
   "metadata": {},
   "outputs": [
    {
     "data": {
      "text/html": [
       "<div>\n",
       "<style scoped>\n",
       "    .dataframe tbody tr th:only-of-type {\n",
       "        vertical-align: middle;\n",
       "    }\n",
       "\n",
       "    .dataframe tbody tr th {\n",
       "        vertical-align: top;\n",
       "    }\n",
       "\n",
       "    .dataframe thead th {\n",
       "        text-align: right;\n",
       "    }\n",
       "</style>\n",
       "<table border=\"1\" class=\"dataframe\">\n",
       "  <thead>\n",
       "    <tr style=\"text-align: right;\">\n",
       "      <th></th>\n",
       "      <th>WD</th>\n",
       "      <th>WFS</th>\n",
       "      <th>TS</th>\n",
       "      <th>P</th>\n",
       "      <th>ME</th>\n",
       "      <th>ME Linear predicted</th>\n",
       "    </tr>\n",
       "  </thead>\n",
       "  <tbody>\n",
       "    <tr>\n",
       "      <th>0</th>\n",
       "      <td>0.8</td>\n",
       "      <td>39.33</td>\n",
       "      <td>5.00</td>\n",
       "      <td>531.22</td>\n",
       "      <td>0.396</td>\n",
       "      <td>0.341184</td>\n",
       "    </tr>\n",
       "    <tr>\n",
       "      <th>1</th>\n",
       "      <td>0.8</td>\n",
       "      <td>48.33</td>\n",
       "      <td>6.66</td>\n",
       "      <td>693.84</td>\n",
       "      <td>0.414</td>\n",
       "      <td>0.365202</td>\n",
       "    </tr>\n",
       "    <tr>\n",
       "      <th>2</th>\n",
       "      <td>0.8</td>\n",
       "      <td>66.83</td>\n",
       "      <td>8.34</td>\n",
       "      <td>959.70</td>\n",
       "      <td>0.433</td>\n",
       "      <td>0.389510</td>\n",
       "    </tr>\n",
       "    <tr>\n",
       "      <th>3</th>\n",
       "      <td>0.8</td>\n",
       "      <td>80.00</td>\n",
       "      <td>10.00</td>\n",
       "      <td>1113.30</td>\n",
       "      <td>0.446</td>\n",
       "      <td>0.413529</td>\n",
       "    </tr>\n",
       "    <tr>\n",
       "      <th>4</th>\n",
       "      <td>0.8</td>\n",
       "      <td>94.33</td>\n",
       "      <td>11.67</td>\n",
       "      <td>1277.70</td>\n",
       "      <td>0.445</td>\n",
       "      <td>0.437692</td>\n",
       "    </tr>\n",
       "    <tr>\n",
       "      <th>...</th>\n",
       "      <td>...</td>\n",
       "      <td>...</td>\n",
       "      <td>...</td>\n",
       "      <td>...</td>\n",
       "      <td>...</td>\n",
       "      <td>...</td>\n",
       "    </tr>\n",
       "    <tr>\n",
       "      <th>70</th>\n",
       "      <td>1.2</td>\n",
       "      <td>44.33</td>\n",
       "      <td>3.34</td>\n",
       "      <td>1688.92</td>\n",
       "      <td>0.372</td>\n",
       "      <td>0.451585</td>\n",
       "    </tr>\n",
       "    <tr>\n",
       "      <th>71</th>\n",
       "      <td>1.2</td>\n",
       "      <td>57.33</td>\n",
       "      <td>4.17</td>\n",
       "      <td>1996.29</td>\n",
       "      <td>0.446</td>\n",
       "      <td>0.463594</td>\n",
       "    </tr>\n",
       "    <tr>\n",
       "      <th>72</th>\n",
       "      <td>1.2</td>\n",
       "      <td>70.00</td>\n",
       "      <td>5.01</td>\n",
       "      <td>2177.65</td>\n",
       "      <td>0.488</td>\n",
       "      <td>0.475748</td>\n",
       "    </tr>\n",
       "    <tr>\n",
       "      <th>73</th>\n",
       "      <td>1.2</td>\n",
       "      <td>80.17</td>\n",
       "      <td>5.83</td>\n",
       "      <td>2528.29</td>\n",
       "      <td>0.470</td>\n",
       "      <td>0.487613</td>\n",
       "    </tr>\n",
       "    <tr>\n",
       "      <th>74</th>\n",
       "      <td>1.2</td>\n",
       "      <td>89.33</td>\n",
       "      <td>6.67</td>\n",
       "      <td>2887.92</td>\n",
       "      <td>0.500</td>\n",
       "      <td>0.499767</td>\n",
       "    </tr>\n",
       "  </tbody>\n",
       "</table>\n",
       "<p>75 rows × 6 columns</p>\n",
       "</div>"
      ],
      "text/plain": [
       "     WD    WFS     TS        P     ME  ME Linear predicted\n",
       "0   0.8  39.33   5.00   531.22  0.396             0.341184\n",
       "1   0.8  48.33   6.66   693.84  0.414             0.365202\n",
       "2   0.8  66.83   8.34   959.70  0.433             0.389510\n",
       "3   0.8  80.00  10.00  1113.30  0.446             0.413529\n",
       "4   0.8  94.33  11.67  1277.70  0.445             0.437692\n",
       "..  ...    ...    ...      ...    ...                  ...\n",
       "70  1.2  44.33   3.34  1688.92  0.372             0.451585\n",
       "71  1.2  57.33   4.17  1996.29  0.446             0.463594\n",
       "72  1.2  70.00   5.01  2177.65  0.488             0.475748\n",
       "73  1.2  80.17   5.83  2528.29  0.470             0.487613\n",
       "74  1.2  89.33   6.67  2887.92  0.500             0.499767\n",
       "\n",
       "[75 rows x 6 columns]"
      ]
     },
     "execution_count": 19,
     "metadata": {},
     "output_type": "execute_result"
    }
   ],
   "source": [
    "y_linear_ME= reg_model.predict(x)\n",
    "\n",
    "df['ME Linear predicted']=y_linear_ME\n",
    "df"
   ]
  },
  {
   "cell_type": "markdown",
   "id": "3e04e647",
   "metadata": {},
   "source": [
    "- All checks are Ok. \n",
    "- So, Linear regression model is good for prediction."
   ]
  }
 ],
 "metadata": {
  "kernelspec": {
   "display_name": "Python 3 (ipykernel)",
   "language": "python",
   "name": "python3"
  },
  "language_info": {
   "codemirror_mode": {
    "name": "ipython",
    "version": 3
   },
   "file_extension": ".py",
   "mimetype": "text/x-python",
   "name": "python",
   "nbconvert_exporter": "python",
   "pygments_lexer": "ipython3",
   "version": "3.9.12"
  }
 },
 "nbformat": 4,
 "nbformat_minor": 5
}
